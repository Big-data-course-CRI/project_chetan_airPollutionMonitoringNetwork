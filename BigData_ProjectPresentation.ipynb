{
  "nbformat": 4,
  "nbformat_minor": 0,
  "metadata": {
    "colab": {
      "name": "BigDataProjectPresentation.ipynb",
      "provenance": []
    },
    "kernelspec": {
      "name": "python3",
      "display_name": "Python 3"
    }
  },
  "cells": [
    {
      "cell_type": "markdown",
      "metadata": {
        "id": "F6VuN3R5NwCS",
        "colab_type": "text"
      },
      "source": [
        "# **Network Analysis of Particulate Matter (PM2.5) Emissions in India**"
      ]
    },
    {
      "cell_type": "code",
      "metadata": {
        "id": "4bY8SSQ3LRWv",
        "colab_type": "code",
        "colab": {}
      },
      "source": [
        "import pandas as pd\n",
        "import matplotlib.pyplot as plt\n",
        "import numpy as np\n",
        "import seaborn as sns\n",
        "import networkx as nx"
      ],
      "execution_count": 0,
      "outputs": []
    },
    {
      "cell_type": "markdown",
      "metadata": {
        "id": "3CxukAVDxkyl",
        "colab_type": "text"
      },
      "source": [
        "# **Introduction and Motivation**\n",
        "Air pollution refers to the excessive release of pollutants into the atmosphere. It plays an important role in a wide range of environmental and health problems and has been one of the major problems to deal with for any nation.\n",
        "Air pollution fluctuations have been found to strongly depend on the changing weather dynamics. The impact of weather on the daily fluctuations of air pollution is still not clear. Effects of changing weather cause air pollution at a particular region a few days or even a week later.\n",
        "Air pollution has emerged as a major challenge in Delhi, India.\n",
        "The aim of this project is to create a novel multilayer and multivariable network to detect the influence of weather dynamics on the temporal variability of surface air pollution.\n",
        "\n",
        "[Sources Of Pollution in Delhi](https://www.investindia.gov.in/team-india-blogs/project-breathe-resolving-delhis-pollution-through-technology-and-innovation)\n",
        "\n",
        "[Air Pollution in Delhi](https://www.youtube.com/watch?v=bVzvZxW5n2Q)\n",
        "\n",
        "\n",
        "\n"
      ]
    },
    {
      "cell_type": "code",
      "metadata": {
        "id": "1MXGlPK0Or98",
        "colab_type": "code",
        "colab": {
          "base_uri": "https://localhost:8080/",
          "height": 123
        },
        "outputId": "678f0753-513f-4fe8-cb8b-89bcebab4ca7"
      },
      "source": [
        "#Access data from Google Drive\n",
        "from google.colab import drive\n",
        "drive.mount('/content/drive')"
      ],
      "execution_count": 2,
      "outputs": [
        {
          "output_type": "stream",
          "text": [
            "Go to this URL in a browser: https://accounts.google.com/o/oauth2/auth?client_id=947318989803-6bn6qk8qdgf4n4g3pfee6491hc0brc4i.apps.googleusercontent.com&redirect_uri=urn%3aietf%3awg%3aoauth%3a2.0%3aoob&response_type=code&scope=email%20https%3a%2f%2fwww.googleapis.com%2fauth%2fdocs.test%20https%3a%2f%2fwww.googleapis.com%2fauth%2fdrive%20https%3a%2f%2fwww.googleapis.com%2fauth%2fdrive.photos.readonly%20https%3a%2f%2fwww.googleapis.com%2fauth%2fpeopleapi.readonly\n",
            "\n",
            "Enter your authorization code:\n",
            "··········\n",
            "Mounted at /content/drive\n"
          ],
          "name": "stdout"
        }
      ]
    },
    {
      "cell_type": "code",
      "metadata": {
        "id": "Le3JYpXRO5p1",
        "colab_type": "code",
        "colab": {
          "base_uri": "https://localhost:8080/",
          "height": 51
        },
        "outputId": "31867331-db0d-49ee-b75a-5e0cef94ddf8"
      },
      "source": [
        "#Load Air Quality Index dataset of India\n",
        "df_aqiIndia = pd.read_csv('/content/drive/My Drive/Colab Notebooks/Data/AQI_India.csv')\n"
      ],
      "execution_count": 3,
      "outputs": [
        {
          "output_type": "stream",
          "text": [
            "/usr/local/lib/python3.6/dist-packages/IPython/core/interactiveshell.py:2718: DtypeWarning: Columns (0) have mixed types. Specify dtype option on import or set low_memory=False.\n",
            "  interactivity=interactivity, compiler=compiler, result=result)\n"
          ],
          "name": "stderr"
        }
      ]
    },
    {
      "cell_type": "markdown",
      "metadata": {
        "id": "MB9nivYwIKF-",
        "colab_type": "text"
      },
      "source": [
        "# Explore Dataset"
      ]
    },
    {
      "cell_type": "markdown",
      "metadata": {
        "id": "UTaWzlIaJGxW",
        "colab_type": "text"
      },
      "source": [
        "Air Quality Index India\n",
        "\n",
        "*   so2 - Sulphor Dioxide\n",
        "*   no2 - Nitrogen Dioxide\n",
        "*   rspm - Respirable Suspended Particulate Matter\n",
        "*   spm - Suspended Particulate Matter\n",
        "*   pm2_5 - Particulate Matter\n",
        "\n",
        "\n",
        "\n",
        "\n"
      ]
    },
    {
      "cell_type": "code",
      "metadata": {
        "id": "uY9QB3nZIMW-",
        "colab_type": "code",
        "colab": {
          "base_uri": "https://localhost:8080/",
          "height": 203
        },
        "outputId": "e4dc841b-dc20-4903-9975-edf808d84be9"
      },
      "source": [
        "df_aqiIndia.head()"
      ],
      "execution_count": 4,
      "outputs": [
        {
          "output_type": "execute_result",
          "data": {
            "text/html": [
              "<div>\n",
              "<style scoped>\n",
              "    .dataframe tbody tr th:only-of-type {\n",
              "        vertical-align: middle;\n",
              "    }\n",
              "\n",
              "    .dataframe tbody tr th {\n",
              "        vertical-align: top;\n",
              "    }\n",
              "\n",
              "    .dataframe thead th {\n",
              "        text-align: right;\n",
              "    }\n",
              "</style>\n",
              "<table border=\"1\" class=\"dataframe\">\n",
              "  <thead>\n",
              "    <tr style=\"text-align: right;\">\n",
              "      <th></th>\n",
              "      <th>stn_code</th>\n",
              "      <th>sampling_date</th>\n",
              "      <th>state</th>\n",
              "      <th>location</th>\n",
              "      <th>agency</th>\n",
              "      <th>type</th>\n",
              "      <th>so2</th>\n",
              "      <th>no2</th>\n",
              "      <th>rspm</th>\n",
              "      <th>spm</th>\n",
              "      <th>location_monitoring_station</th>\n",
              "      <th>pm2_5</th>\n",
              "      <th>date</th>\n",
              "    </tr>\n",
              "  </thead>\n",
              "  <tbody>\n",
              "    <tr>\n",
              "      <th>0</th>\n",
              "      <td>150</td>\n",
              "      <td>February - M021990</td>\n",
              "      <td>Andhra Pradesh</td>\n",
              "      <td>Hyderabad</td>\n",
              "      <td>NaN</td>\n",
              "      <td>Residential, Rural and other Areas</td>\n",
              "      <td>4.8</td>\n",
              "      <td>17.4</td>\n",
              "      <td>NaN</td>\n",
              "      <td>NaN</td>\n",
              "      <td>NaN</td>\n",
              "      <td>NaN</td>\n",
              "      <td>02-01-1990</td>\n",
              "    </tr>\n",
              "    <tr>\n",
              "      <th>1</th>\n",
              "      <td>151</td>\n",
              "      <td>February - M021990</td>\n",
              "      <td>Andhra Pradesh</td>\n",
              "      <td>Hyderabad</td>\n",
              "      <td>NaN</td>\n",
              "      <td>Industrial Area</td>\n",
              "      <td>3.1</td>\n",
              "      <td>7.0</td>\n",
              "      <td>NaN</td>\n",
              "      <td>NaN</td>\n",
              "      <td>NaN</td>\n",
              "      <td>NaN</td>\n",
              "      <td>02-01-1990</td>\n",
              "    </tr>\n",
              "    <tr>\n",
              "      <th>2</th>\n",
              "      <td>152</td>\n",
              "      <td>February - M021990</td>\n",
              "      <td>Andhra Pradesh</td>\n",
              "      <td>Hyderabad</td>\n",
              "      <td>NaN</td>\n",
              "      <td>Residential, Rural and other Areas</td>\n",
              "      <td>6.2</td>\n",
              "      <td>28.5</td>\n",
              "      <td>NaN</td>\n",
              "      <td>NaN</td>\n",
              "      <td>NaN</td>\n",
              "      <td>NaN</td>\n",
              "      <td>02-01-1990</td>\n",
              "    </tr>\n",
              "    <tr>\n",
              "      <th>3</th>\n",
              "      <td>150</td>\n",
              "      <td>March - M031990</td>\n",
              "      <td>Andhra Pradesh</td>\n",
              "      <td>Hyderabad</td>\n",
              "      <td>NaN</td>\n",
              "      <td>Residential, Rural and other Areas</td>\n",
              "      <td>6.3</td>\n",
              "      <td>14.7</td>\n",
              "      <td>NaN</td>\n",
              "      <td>NaN</td>\n",
              "      <td>NaN</td>\n",
              "      <td>NaN</td>\n",
              "      <td>03-01-1990</td>\n",
              "    </tr>\n",
              "    <tr>\n",
              "      <th>4</th>\n",
              "      <td>151</td>\n",
              "      <td>March - M031990</td>\n",
              "      <td>Andhra Pradesh</td>\n",
              "      <td>Hyderabad</td>\n",
              "      <td>NaN</td>\n",
              "      <td>Industrial Area</td>\n",
              "      <td>4.7</td>\n",
              "      <td>7.5</td>\n",
              "      <td>NaN</td>\n",
              "      <td>NaN</td>\n",
              "      <td>NaN</td>\n",
              "      <td>NaN</td>\n",
              "      <td>03-01-1990</td>\n",
              "    </tr>\n",
              "  </tbody>\n",
              "</table>\n",
              "</div>"
            ],
            "text/plain": [
              "  stn_code       sampling_date  ... pm2_5        date\n",
              "0      150  February - M021990  ...   NaN  02-01-1990\n",
              "1      151  February - M021990  ...   NaN  02-01-1990\n",
              "2      152  February - M021990  ...   NaN  02-01-1990\n",
              "3      150     March - M031990  ...   NaN  03-01-1990\n",
              "4      151     March - M031990  ...   NaN  03-01-1990\n",
              "\n",
              "[5 rows x 13 columns]"
            ]
          },
          "metadata": {
            "tags": []
          },
          "execution_count": 4
        }
      ]
    },
    {
      "cell_type": "code",
      "metadata": {
        "id": "8dTSNS7MLryX",
        "colab_type": "code",
        "colab": {
          "base_uri": "https://localhost:8080/",
          "height": 327
        },
        "outputId": "fcea9600-9024-4d3b-c58e-279871418192"
      },
      "source": [
        "df_aqiIndia.info()"
      ],
      "execution_count": 5,
      "outputs": [
        {
          "output_type": "stream",
          "text": [
            "<class 'pandas.core.frame.DataFrame'>\n",
            "RangeIndex: 435742 entries, 0 to 435741\n",
            "Data columns (total 13 columns):\n",
            "stn_code                       291665 non-null object\n",
            "sampling_date                  435739 non-null object\n",
            "state                          435742 non-null object\n",
            "location                       435739 non-null object\n",
            "agency                         286261 non-null object\n",
            "type                           430349 non-null object\n",
            "so2                            401096 non-null float64\n",
            "no2                            419509 non-null float64\n",
            "rspm                           395520 non-null float64\n",
            "spm                            198355 non-null float64\n",
            "location_monitoring_station    408251 non-null object\n",
            "pm2_5                          9314 non-null float64\n",
            "date                           435735 non-null object\n",
            "dtypes: float64(5), object(8)\n",
            "memory usage: 43.2+ MB\n"
          ],
          "name": "stdout"
        }
      ]
    },
    {
      "cell_type": "code",
      "metadata": {
        "id": "p1zPI9OpIY1U",
        "colab_type": "code",
        "colab": {
          "base_uri": "https://localhost:8080/",
          "height": 295
        },
        "outputId": "1c9faff7-4bc9-403b-e771-f9db5127a2f0"
      },
      "source": [
        "df_aqiIndia.describe()"
      ],
      "execution_count": 6,
      "outputs": [
        {
          "output_type": "execute_result",
          "data": {
            "text/html": [
              "<div>\n",
              "<style scoped>\n",
              "    .dataframe tbody tr th:only-of-type {\n",
              "        vertical-align: middle;\n",
              "    }\n",
              "\n",
              "    .dataframe tbody tr th {\n",
              "        vertical-align: top;\n",
              "    }\n",
              "\n",
              "    .dataframe thead th {\n",
              "        text-align: right;\n",
              "    }\n",
              "</style>\n",
              "<table border=\"1\" class=\"dataframe\">\n",
              "  <thead>\n",
              "    <tr style=\"text-align: right;\">\n",
              "      <th></th>\n",
              "      <th>so2</th>\n",
              "      <th>no2</th>\n",
              "      <th>rspm</th>\n",
              "      <th>spm</th>\n",
              "      <th>pm2_5</th>\n",
              "    </tr>\n",
              "  </thead>\n",
              "  <tbody>\n",
              "    <tr>\n",
              "      <th>count</th>\n",
              "      <td>401096.000000</td>\n",
              "      <td>419509.000000</td>\n",
              "      <td>395520.000000</td>\n",
              "      <td>198355.000000</td>\n",
              "      <td>9314.000000</td>\n",
              "    </tr>\n",
              "    <tr>\n",
              "      <th>mean</th>\n",
              "      <td>10.829414</td>\n",
              "      <td>25.809623</td>\n",
              "      <td>108.832784</td>\n",
              "      <td>220.783480</td>\n",
              "      <td>40.791467</td>\n",
              "    </tr>\n",
              "    <tr>\n",
              "      <th>std</th>\n",
              "      <td>11.177187</td>\n",
              "      <td>18.503086</td>\n",
              "      <td>74.872430</td>\n",
              "      <td>151.395457</td>\n",
              "      <td>30.832525</td>\n",
              "    </tr>\n",
              "    <tr>\n",
              "      <th>min</th>\n",
              "      <td>0.000000</td>\n",
              "      <td>0.000000</td>\n",
              "      <td>0.000000</td>\n",
              "      <td>0.000000</td>\n",
              "      <td>3.000000</td>\n",
              "    </tr>\n",
              "    <tr>\n",
              "      <th>25%</th>\n",
              "      <td>5.000000</td>\n",
              "      <td>14.000000</td>\n",
              "      <td>56.000000</td>\n",
              "      <td>111.000000</td>\n",
              "      <td>24.000000</td>\n",
              "    </tr>\n",
              "    <tr>\n",
              "      <th>50%</th>\n",
              "      <td>8.000000</td>\n",
              "      <td>22.000000</td>\n",
              "      <td>90.000000</td>\n",
              "      <td>187.000000</td>\n",
              "      <td>32.000000</td>\n",
              "    </tr>\n",
              "    <tr>\n",
              "      <th>75%</th>\n",
              "      <td>13.700000</td>\n",
              "      <td>32.200000</td>\n",
              "      <td>142.000000</td>\n",
              "      <td>296.000000</td>\n",
              "      <td>46.000000</td>\n",
              "    </tr>\n",
              "    <tr>\n",
              "      <th>max</th>\n",
              "      <td>909.000000</td>\n",
              "      <td>876.000000</td>\n",
              "      <td>6307.033333</td>\n",
              "      <td>3380.000000</td>\n",
              "      <td>504.000000</td>\n",
              "    </tr>\n",
              "  </tbody>\n",
              "</table>\n",
              "</div>"
            ],
            "text/plain": [
              "                 so2            no2           rspm            spm        pm2_5\n",
              "count  401096.000000  419509.000000  395520.000000  198355.000000  9314.000000\n",
              "mean       10.829414      25.809623     108.832784     220.783480    40.791467\n",
              "std        11.177187      18.503086      74.872430     151.395457    30.832525\n",
              "min         0.000000       0.000000       0.000000       0.000000     3.000000\n",
              "25%         5.000000      14.000000      56.000000     111.000000    24.000000\n",
              "50%         8.000000      22.000000      90.000000     187.000000    32.000000\n",
              "75%        13.700000      32.200000     142.000000     296.000000    46.000000\n",
              "max       909.000000     876.000000    6307.033333    3380.000000   504.000000"
            ]
          },
          "metadata": {
            "tags": []
          },
          "execution_count": 6
        }
      ]
    },
    {
      "cell_type": "code",
      "metadata": {
        "id": "fzh4qmbvIuXA",
        "colab_type": "code",
        "colab": {
          "base_uri": "https://localhost:8080/",
          "height": 476
        },
        "outputId": "55d9d9e4-aa33-4597-8b71-183b085239be"
      },
      "source": [
        "df_aqiIndia.describe(include='all')"
      ],
      "execution_count": 9,
      "outputs": [
        {
          "output_type": "execute_result",
          "data": {
            "text/html": [
              "<div>\n",
              "<style scoped>\n",
              "    .dataframe tbody tr th:only-of-type {\n",
              "        vertical-align: middle;\n",
              "    }\n",
              "\n",
              "    .dataframe tbody tr th {\n",
              "        vertical-align: top;\n",
              "    }\n",
              "\n",
              "    .dataframe thead th {\n",
              "        text-align: right;\n",
              "    }\n",
              "</style>\n",
              "<table border=\"1\" class=\"dataframe\">\n",
              "  <thead>\n",
              "    <tr style=\"text-align: right;\">\n",
              "      <th></th>\n",
              "      <th>stn_code</th>\n",
              "      <th>sampling_date</th>\n",
              "      <th>state</th>\n",
              "      <th>location</th>\n",
              "      <th>agency</th>\n",
              "      <th>type</th>\n",
              "      <th>so2</th>\n",
              "      <th>no2</th>\n",
              "      <th>rspm</th>\n",
              "      <th>spm</th>\n",
              "      <th>location_monitoring_station</th>\n",
              "      <th>pm2_5</th>\n",
              "      <th>date</th>\n",
              "    </tr>\n",
              "  </thead>\n",
              "  <tbody>\n",
              "    <tr>\n",
              "      <th>count</th>\n",
              "      <td>291665.0</td>\n",
              "      <td>435739</td>\n",
              "      <td>435742</td>\n",
              "      <td>435739</td>\n",
              "      <td>286261</td>\n",
              "      <td>430349</td>\n",
              "      <td>401096.000000</td>\n",
              "      <td>419509.000000</td>\n",
              "      <td>395520.000000</td>\n",
              "      <td>198355.000000</td>\n",
              "      <td>408251</td>\n",
              "      <td>9314.000000</td>\n",
              "      <td>435735</td>\n",
              "    </tr>\n",
              "    <tr>\n",
              "      <th>unique</th>\n",
              "      <td>803.0</td>\n",
              "      <td>5071</td>\n",
              "      <td>37</td>\n",
              "      <td>304</td>\n",
              "      <td>64</td>\n",
              "      <td>10</td>\n",
              "      <td>NaN</td>\n",
              "      <td>NaN</td>\n",
              "      <td>NaN</td>\n",
              "      <td>NaN</td>\n",
              "      <td>991</td>\n",
              "      <td>NaN</td>\n",
              "      <td>5067</td>\n",
              "    </tr>\n",
              "    <tr>\n",
              "      <th>top</th>\n",
              "      <td>193.0</td>\n",
              "      <td>19-03-2015</td>\n",
              "      <td>Maharashtra</td>\n",
              "      <td>Guwahati</td>\n",
              "      <td>Maharashtra State Pollution Control Board</td>\n",
              "      <td>Residential, Rural and other Areas</td>\n",
              "      <td>NaN</td>\n",
              "      <td>NaN</td>\n",
              "      <td>NaN</td>\n",
              "      <td>NaN</td>\n",
              "      <td>Regional Office</td>\n",
              "      <td>NaN</td>\n",
              "      <td>3/19/2015</td>\n",
              "    </tr>\n",
              "    <tr>\n",
              "      <th>freq</th>\n",
              "      <td>1428.0</td>\n",
              "      <td>253</td>\n",
              "      <td>60384</td>\n",
              "      <td>9984</td>\n",
              "      <td>27857</td>\n",
              "      <td>179014</td>\n",
              "      <td>NaN</td>\n",
              "      <td>NaN</td>\n",
              "      <td>NaN</td>\n",
              "      <td>NaN</td>\n",
              "      <td>6261</td>\n",
              "      <td>NaN</td>\n",
              "      <td>253</td>\n",
              "    </tr>\n",
              "    <tr>\n",
              "      <th>mean</th>\n",
              "      <td>NaN</td>\n",
              "      <td>NaN</td>\n",
              "      <td>NaN</td>\n",
              "      <td>NaN</td>\n",
              "      <td>NaN</td>\n",
              "      <td>NaN</td>\n",
              "      <td>10.829414</td>\n",
              "      <td>25.809623</td>\n",
              "      <td>108.832784</td>\n",
              "      <td>220.783480</td>\n",
              "      <td>NaN</td>\n",
              "      <td>40.791467</td>\n",
              "      <td>NaN</td>\n",
              "    </tr>\n",
              "    <tr>\n",
              "      <th>std</th>\n",
              "      <td>NaN</td>\n",
              "      <td>NaN</td>\n",
              "      <td>NaN</td>\n",
              "      <td>NaN</td>\n",
              "      <td>NaN</td>\n",
              "      <td>NaN</td>\n",
              "      <td>11.177187</td>\n",
              "      <td>18.503086</td>\n",
              "      <td>74.872430</td>\n",
              "      <td>151.395457</td>\n",
              "      <td>NaN</td>\n",
              "      <td>30.832525</td>\n",
              "      <td>NaN</td>\n",
              "    </tr>\n",
              "    <tr>\n",
              "      <th>min</th>\n",
              "      <td>NaN</td>\n",
              "      <td>NaN</td>\n",
              "      <td>NaN</td>\n",
              "      <td>NaN</td>\n",
              "      <td>NaN</td>\n",
              "      <td>NaN</td>\n",
              "      <td>0.000000</td>\n",
              "      <td>0.000000</td>\n",
              "      <td>0.000000</td>\n",
              "      <td>0.000000</td>\n",
              "      <td>NaN</td>\n",
              "      <td>3.000000</td>\n",
              "      <td>NaN</td>\n",
              "    </tr>\n",
              "    <tr>\n",
              "      <th>25%</th>\n",
              "      <td>NaN</td>\n",
              "      <td>NaN</td>\n",
              "      <td>NaN</td>\n",
              "      <td>NaN</td>\n",
              "      <td>NaN</td>\n",
              "      <td>NaN</td>\n",
              "      <td>5.000000</td>\n",
              "      <td>14.000000</td>\n",
              "      <td>56.000000</td>\n",
              "      <td>111.000000</td>\n",
              "      <td>NaN</td>\n",
              "      <td>24.000000</td>\n",
              "      <td>NaN</td>\n",
              "    </tr>\n",
              "    <tr>\n",
              "      <th>50%</th>\n",
              "      <td>NaN</td>\n",
              "      <td>NaN</td>\n",
              "      <td>NaN</td>\n",
              "      <td>NaN</td>\n",
              "      <td>NaN</td>\n",
              "      <td>NaN</td>\n",
              "      <td>8.000000</td>\n",
              "      <td>22.000000</td>\n",
              "      <td>90.000000</td>\n",
              "      <td>187.000000</td>\n",
              "      <td>NaN</td>\n",
              "      <td>32.000000</td>\n",
              "      <td>NaN</td>\n",
              "    </tr>\n",
              "    <tr>\n",
              "      <th>75%</th>\n",
              "      <td>NaN</td>\n",
              "      <td>NaN</td>\n",
              "      <td>NaN</td>\n",
              "      <td>NaN</td>\n",
              "      <td>NaN</td>\n",
              "      <td>NaN</td>\n",
              "      <td>13.700000</td>\n",
              "      <td>32.200000</td>\n",
              "      <td>142.000000</td>\n",
              "      <td>296.000000</td>\n",
              "      <td>NaN</td>\n",
              "      <td>46.000000</td>\n",
              "      <td>NaN</td>\n",
              "    </tr>\n",
              "    <tr>\n",
              "      <th>max</th>\n",
              "      <td>NaN</td>\n",
              "      <td>NaN</td>\n",
              "      <td>NaN</td>\n",
              "      <td>NaN</td>\n",
              "      <td>NaN</td>\n",
              "      <td>NaN</td>\n",
              "      <td>909.000000</td>\n",
              "      <td>876.000000</td>\n",
              "      <td>6307.033333</td>\n",
              "      <td>3380.000000</td>\n",
              "      <td>NaN</td>\n",
              "      <td>504.000000</td>\n",
              "      <td>NaN</td>\n",
              "    </tr>\n",
              "  </tbody>\n",
              "</table>\n",
              "</div>"
            ],
            "text/plain": [
              "        stn_code sampling_date  ...        pm2_5       date\n",
              "count   291665.0        435739  ...  9314.000000     435735\n",
              "unique     803.0          5071  ...          NaN       5067\n",
              "top        193.0    19-03-2015  ...          NaN  3/19/2015\n",
              "freq      1428.0           253  ...          NaN        253\n",
              "mean         NaN           NaN  ...    40.791467        NaN\n",
              "std          NaN           NaN  ...    30.832525        NaN\n",
              "min          NaN           NaN  ...     3.000000        NaN\n",
              "25%          NaN           NaN  ...    24.000000        NaN\n",
              "50%          NaN           NaN  ...    32.000000        NaN\n",
              "75%          NaN           NaN  ...    46.000000        NaN\n",
              "max          NaN           NaN  ...   504.000000        NaN\n",
              "\n",
              "[11 rows x 13 columns]"
            ]
          },
          "metadata": {
            "tags": []
          },
          "execution_count": 9
        }
      ]
    },
    {
      "cell_type": "code",
      "metadata": {
        "id": "xj3cS8boI3P0",
        "colab_type": "code",
        "colab": {
          "base_uri": "https://localhost:8080/",
          "height": 254
        },
        "outputId": "fab66998-4b79-462f-bb2f-e09a928c11ef"
      },
      "source": [
        "df_aqiIndia.tail()"
      ],
      "execution_count": 10,
      "outputs": [
        {
          "output_type": "execute_result",
          "data": {
            "text/html": [
              "<div>\n",
              "<style scoped>\n",
              "    .dataframe tbody tr th:only-of-type {\n",
              "        vertical-align: middle;\n",
              "    }\n",
              "\n",
              "    .dataframe tbody tr th {\n",
              "        vertical-align: top;\n",
              "    }\n",
              "\n",
              "    .dataframe thead th {\n",
              "        text-align: right;\n",
              "    }\n",
              "</style>\n",
              "<table border=\"1\" class=\"dataframe\">\n",
              "  <thead>\n",
              "    <tr style=\"text-align: right;\">\n",
              "      <th></th>\n",
              "      <th>stn_code</th>\n",
              "      <th>sampling_date</th>\n",
              "      <th>state</th>\n",
              "      <th>location</th>\n",
              "      <th>agency</th>\n",
              "      <th>type</th>\n",
              "      <th>so2</th>\n",
              "      <th>no2</th>\n",
              "      <th>rspm</th>\n",
              "      <th>spm</th>\n",
              "      <th>location_monitoring_station</th>\n",
              "      <th>pm2_5</th>\n",
              "      <th>date</th>\n",
              "    </tr>\n",
              "  </thead>\n",
              "  <tbody>\n",
              "    <tr>\n",
              "      <th>435737</th>\n",
              "      <td>SAMP</td>\n",
              "      <td>24-12-2015</td>\n",
              "      <td>West Bengal</td>\n",
              "      <td>ULUBERIA</td>\n",
              "      <td>West Bengal State Pollution Control Board</td>\n",
              "      <td>RIRUO</td>\n",
              "      <td>22.0</td>\n",
              "      <td>50.0</td>\n",
              "      <td>143.0</td>\n",
              "      <td>NaN</td>\n",
              "      <td>Inside Rampal Industries,ULUBERIA</td>\n",
              "      <td>NaN</td>\n",
              "      <td>12/24/2015</td>\n",
              "    </tr>\n",
              "    <tr>\n",
              "      <th>435738</th>\n",
              "      <td>SAMP</td>\n",
              "      <td>29-12-2015</td>\n",
              "      <td>West Bengal</td>\n",
              "      <td>ULUBERIA</td>\n",
              "      <td>West Bengal State Pollution Control Board</td>\n",
              "      <td>RIRUO</td>\n",
              "      <td>20.0</td>\n",
              "      <td>46.0</td>\n",
              "      <td>171.0</td>\n",
              "      <td>NaN</td>\n",
              "      <td>Inside Rampal Industries,ULUBERIA</td>\n",
              "      <td>NaN</td>\n",
              "      <td>12/29/2015</td>\n",
              "    </tr>\n",
              "    <tr>\n",
              "      <th>435739</th>\n",
              "      <td>NaN</td>\n",
              "      <td>NaN</td>\n",
              "      <td>andaman-and-nicobar-islands</td>\n",
              "      <td>NaN</td>\n",
              "      <td>NaN</td>\n",
              "      <td>NaN</td>\n",
              "      <td>NaN</td>\n",
              "      <td>NaN</td>\n",
              "      <td>NaN</td>\n",
              "      <td>NaN</td>\n",
              "      <td>NaN</td>\n",
              "      <td>NaN</td>\n",
              "      <td>NaN</td>\n",
              "    </tr>\n",
              "    <tr>\n",
              "      <th>435740</th>\n",
              "      <td>NaN</td>\n",
              "      <td>NaN</td>\n",
              "      <td>Lakshadweep</td>\n",
              "      <td>NaN</td>\n",
              "      <td>NaN</td>\n",
              "      <td>NaN</td>\n",
              "      <td>NaN</td>\n",
              "      <td>NaN</td>\n",
              "      <td>NaN</td>\n",
              "      <td>NaN</td>\n",
              "      <td>NaN</td>\n",
              "      <td>NaN</td>\n",
              "      <td>NaN</td>\n",
              "    </tr>\n",
              "    <tr>\n",
              "      <th>435741</th>\n",
              "      <td>NaN</td>\n",
              "      <td>NaN</td>\n",
              "      <td>Tripura</td>\n",
              "      <td>NaN</td>\n",
              "      <td>NaN</td>\n",
              "      <td>NaN</td>\n",
              "      <td>NaN</td>\n",
              "      <td>NaN</td>\n",
              "      <td>NaN</td>\n",
              "      <td>NaN</td>\n",
              "      <td>NaN</td>\n",
              "      <td>NaN</td>\n",
              "      <td>NaN</td>\n",
              "    </tr>\n",
              "  </tbody>\n",
              "</table>\n",
              "</div>"
            ],
            "text/plain": [
              "       stn_code sampling_date  ... pm2_5        date\n",
              "435737     SAMP    24-12-2015  ...   NaN  12/24/2015\n",
              "435738     SAMP    29-12-2015  ...   NaN  12/29/2015\n",
              "435739      NaN           NaN  ...   NaN         NaN\n",
              "435740      NaN           NaN  ...   NaN         NaN\n",
              "435741      NaN           NaN  ...   NaN         NaN\n",
              "\n",
              "[5 rows x 13 columns]"
            ]
          },
          "metadata": {
            "tags": []
          },
          "execution_count": 10
        }
      ]
    },
    {
      "cell_type": "markdown",
      "metadata": {
        "id": "SHuqag6jJUTm",
        "colab_type": "text"
      },
      "source": [
        "Missing Values"
      ]
    },
    {
      "cell_type": "code",
      "metadata": {
        "id": "kt4YeB5DLdZJ",
        "colab_type": "code",
        "colab": {
          "base_uri": "https://localhost:8080/",
          "height": 258
        },
        "outputId": "32125341-73c4-41cc-af59-0192b040f11f"
      },
      "source": [
        "df_aqiIndia.isnull().sum()"
      ],
      "execution_count": 11,
      "outputs": [
        {
          "output_type": "execute_result",
          "data": {
            "text/plain": [
              "stn_code                       144077\n",
              "sampling_date                       3\n",
              "state                               0\n",
              "location                            3\n",
              "agency                         149481\n",
              "type                             5393\n",
              "so2                             34646\n",
              "no2                             16233\n",
              "rspm                            40222\n",
              "spm                            237387\n",
              "location_monitoring_station     27491\n",
              "pm2_5                          426428\n",
              "date                                7\n",
              "dtype: int64"
            ]
          },
          "metadata": {
            "tags": []
          },
          "execution_count": 11
        }
      ]
    },
    {
      "cell_type": "code",
      "metadata": {
        "id": "E46SqMV7JT2T",
        "colab_type": "code",
        "colab": {
          "base_uri": "https://localhost:8080/",
          "height": 258
        },
        "outputId": "baa3a826-3cb3-4588-aacf-db3457ec75dd"
      },
      "source": [
        "(df_aqiIndia.isnull().sum() / len(df_aqiIndia)) * 100"
      ],
      "execution_count": 13,
      "outputs": [
        {
          "output_type": "execute_result",
          "data": {
            "text/plain": [
              "stn_code                       33.064749\n",
              "sampling_date                   0.000688\n",
              "state                           0.000000\n",
              "location                        0.000688\n",
              "agency                         34.304933\n",
              "type                            1.237659\n",
              "so2                             7.951035\n",
              "no2                             3.725370\n",
              "rspm                            9.230692\n",
              "spm                            54.478797\n",
              "location_monitoring_station     6.309009\n",
              "pm2_5                          97.862497\n",
              "date                            0.001606\n",
              "dtype: float64"
            ]
          },
          "metadata": {
            "tags": []
          },
          "execution_count": 13
        }
      ]
    },
    {
      "cell_type": "markdown",
      "metadata": {
        "id": "qwS2ecnWLXcj",
        "colab_type": "text"
      },
      "source": [
        "Data Analysis"
      ]
    },
    {
      "cell_type": "code",
      "metadata": {
        "id": "h-2QMdM0MhMT",
        "colab_type": "code",
        "colab": {
          "base_uri": "https://localhost:8080/",
          "height": 206
        },
        "outputId": "f7913b35-2ce8-447c-adc0-f4f458d56078"
      },
      "source": [
        "df_aqiIndia['agency'].value_counts()\n",
        "df_aqiIndia['type'].value_counts()"
      ],
      "execution_count": 14,
      "outputs": [
        {
          "output_type": "execute_result",
          "data": {
            "text/plain": [
              "Residential, Rural and other Areas    179014\n",
              "Industrial Area                        96091\n",
              "Residential and others                 86791\n",
              "Industrial Areas                       51747\n",
              "Sensitive Area                          8980\n",
              "Sensitive Areas                         5536\n",
              "RIRUO                                   1304\n",
              "Sensitive                                495\n",
              "Industrial                               233\n",
              "Residential                              158\n",
              "Name: type, dtype: int64"
            ]
          },
          "metadata": {
            "tags": []
          },
          "execution_count": 14
        }
      ]
    },
    {
      "cell_type": "code",
      "metadata": {
        "id": "pvdwCzR8MvzO",
        "colab_type": "code",
        "colab": {
          "base_uri": "https://localhost:8080/",
          "height": 258
        },
        "outputId": "52bd05b8-b1de-4068-a5d6-8ba4ca6d109f"
      },
      "source": [
        "# Delete all values which have null in type attribute\n",
        "df_aqiIndia = df_aqiIndia.dropna(axis = 0, subset = ['type'])\n",
        "# Delete all values which are null in location attribute\n",
        "df_aqiIndia = df_aqiIndia.dropna(axis = 0, subset = ['location'])\n",
        "# Delete all null values in so2 attribute\n",
        "df_aqiIndia = df_aqiIndia.dropna(axis = 0, subset = ['so2'])\n",
        "\n",
        "df_aqiIndia.isnull().sum()"
      ],
      "execution_count": 15,
      "outputs": [
        {
          "output_type": "execute_result",
          "data": {
            "text/plain": [
              "stn_code                       119813\n",
              "sampling_date                       0\n",
              "state                               0\n",
              "location                            0\n",
              "agency                         125169\n",
              "type                                0\n",
              "so2                                 0\n",
              "no2                              1981\n",
              "rspm                            29643\n",
              "spm                            228178\n",
              "location_monitoring_station     20567\n",
              "pm2_5                          386966\n",
              "date                                4\n",
              "dtype: int64"
            ]
          },
          "metadata": {
            "tags": []
          },
          "execution_count": 15
        }
      ]
    },
    {
      "cell_type": "code",
      "metadata": {
        "id": "V2qbLir3M7gN",
        "colab_type": "code",
        "colab": {
          "base_uri": "https://localhost:8080/",
          "height": 203
        },
        "outputId": "f33fec6d-65ae-4d73-a357-a1c42df567f3"
      },
      "source": [
        "# Delete columns not of interest to us\n",
        "del df_aqiIndia['stn_code']\n",
        "del df_aqiIndia['sampling_date']\n",
        "del df_aqiIndia['agency']\n",
        "del df_aqiIndia['location_monitoring_station']\n",
        "\n",
        "df_aqiIndia.head()"
      ],
      "execution_count": 16,
      "outputs": [
        {
          "output_type": "execute_result",
          "data": {
            "text/html": [
              "<div>\n",
              "<style scoped>\n",
              "    .dataframe tbody tr th:only-of-type {\n",
              "        vertical-align: middle;\n",
              "    }\n",
              "\n",
              "    .dataframe tbody tr th {\n",
              "        vertical-align: top;\n",
              "    }\n",
              "\n",
              "    .dataframe thead th {\n",
              "        text-align: right;\n",
              "    }\n",
              "</style>\n",
              "<table border=\"1\" class=\"dataframe\">\n",
              "  <thead>\n",
              "    <tr style=\"text-align: right;\">\n",
              "      <th></th>\n",
              "      <th>state</th>\n",
              "      <th>location</th>\n",
              "      <th>type</th>\n",
              "      <th>so2</th>\n",
              "      <th>no2</th>\n",
              "      <th>rspm</th>\n",
              "      <th>spm</th>\n",
              "      <th>pm2_5</th>\n",
              "      <th>date</th>\n",
              "    </tr>\n",
              "  </thead>\n",
              "  <tbody>\n",
              "    <tr>\n",
              "      <th>0</th>\n",
              "      <td>Andhra Pradesh</td>\n",
              "      <td>Hyderabad</td>\n",
              "      <td>Residential, Rural and other Areas</td>\n",
              "      <td>4.8</td>\n",
              "      <td>17.4</td>\n",
              "      <td>NaN</td>\n",
              "      <td>NaN</td>\n",
              "      <td>NaN</td>\n",
              "      <td>02-01-1990</td>\n",
              "    </tr>\n",
              "    <tr>\n",
              "      <th>1</th>\n",
              "      <td>Andhra Pradesh</td>\n",
              "      <td>Hyderabad</td>\n",
              "      <td>Industrial Area</td>\n",
              "      <td>3.1</td>\n",
              "      <td>7.0</td>\n",
              "      <td>NaN</td>\n",
              "      <td>NaN</td>\n",
              "      <td>NaN</td>\n",
              "      <td>02-01-1990</td>\n",
              "    </tr>\n",
              "    <tr>\n",
              "      <th>2</th>\n",
              "      <td>Andhra Pradesh</td>\n",
              "      <td>Hyderabad</td>\n",
              "      <td>Residential, Rural and other Areas</td>\n",
              "      <td>6.2</td>\n",
              "      <td>28.5</td>\n",
              "      <td>NaN</td>\n",
              "      <td>NaN</td>\n",
              "      <td>NaN</td>\n",
              "      <td>02-01-1990</td>\n",
              "    </tr>\n",
              "    <tr>\n",
              "      <th>3</th>\n",
              "      <td>Andhra Pradesh</td>\n",
              "      <td>Hyderabad</td>\n",
              "      <td>Residential, Rural and other Areas</td>\n",
              "      <td>6.3</td>\n",
              "      <td>14.7</td>\n",
              "      <td>NaN</td>\n",
              "      <td>NaN</td>\n",
              "      <td>NaN</td>\n",
              "      <td>03-01-1990</td>\n",
              "    </tr>\n",
              "    <tr>\n",
              "      <th>4</th>\n",
              "      <td>Andhra Pradesh</td>\n",
              "      <td>Hyderabad</td>\n",
              "      <td>Industrial Area</td>\n",
              "      <td>4.7</td>\n",
              "      <td>7.5</td>\n",
              "      <td>NaN</td>\n",
              "      <td>NaN</td>\n",
              "      <td>NaN</td>\n",
              "      <td>03-01-1990</td>\n",
              "    </tr>\n",
              "  </tbody>\n",
              "</table>\n",
              "</div>"
            ],
            "text/plain": [
              "            state   location  ... pm2_5        date\n",
              "0  Andhra Pradesh  Hyderabad  ...   NaN  02-01-1990\n",
              "1  Andhra Pradesh  Hyderabad  ...   NaN  02-01-1990\n",
              "2  Andhra Pradesh  Hyderabad  ...   NaN  02-01-1990\n",
              "3  Andhra Pradesh  Hyderabad  ...   NaN  03-01-1990\n",
              "4  Andhra Pradesh  Hyderabad  ...   NaN  03-01-1990\n",
              "\n",
              "[5 rows x 9 columns]"
            ]
          },
          "metadata": {
            "tags": []
          },
          "execution_count": 16
        }
      ]
    },
    {
      "cell_type": "code",
      "metadata": {
        "id": "GZ1_fqtBOEL-",
        "colab_type": "code",
        "colab": {
          "base_uri": "https://localhost:8080/",
          "height": 155
        },
        "outputId": "060a5092-3e2f-4cc5-ca39-dc786bec35d3"
      },
      "source": [
        "states = df_aqiIndia['state'].unique()\n",
        "states"
      ],
      "execution_count": 40,
      "outputs": [
        {
          "output_type": "execute_result",
          "data": {
            "text/plain": [
              "array(['Andhra Pradesh', 'Arunachal Pradesh', 'Assam', 'Bihar',\n",
              "       'Chandigarh', 'Chhattisgarh', 'Dadra & Nagar Haveli',\n",
              "       'Daman & Diu', 'Delhi', 'Goa', 'Gujarat', 'Haryana',\n",
              "       'Himachal Pradesh', 'Jammu & Kashmir', 'Jharkhand', 'Karnataka',\n",
              "       'Kerala', 'Madhya Pradesh', 'Maharashtra', 'Manipur', 'Meghalaya',\n",
              "       'Mizoram', 'Nagaland', 'Odisha', 'Puducherry', 'Punjab',\n",
              "       'Rajasthan', 'Sikkim', 'Tamil Nadu', 'Telangana', 'Uttar Pradesh',\n",
              "       'Uttarakhand', 'Uttaranchal', 'West Bengal'], dtype=object)"
            ]
          },
          "metadata": {
            "tags": []
          },
          "execution_count": 40
        }
      ]
    },
    {
      "cell_type": "code",
      "metadata": {
        "id": "fjmDrpJAP8nj",
        "colab_type": "code",
        "colab": {
          "base_uri": "https://localhost:8080/",
          "height": 34
        },
        "outputId": "43e3b750-122a-4f54-f435-6190d5c3fa7f"
      },
      "source": [
        "df_aqiIndia['state'].nunique()\n",
        "# 34 States"
      ],
      "execution_count": 18,
      "outputs": [
        {
          "output_type": "execute_result",
          "data": {
            "text/plain": [
              "34"
            ]
          },
          "metadata": {
            "tags": []
          },
          "execution_count": 18
        }
      ]
    },
    {
      "cell_type": "code",
      "metadata": {
        "id": "y5nXUWbQPgAt",
        "colab_type": "code",
        "colab": {
          "base_uri": "https://localhost:8080/",
          "height": 997
        },
        "outputId": "a260717f-853d-4807-c484-828551fa1ee6"
      },
      "source": [
        "districts = df_aqiIndia['location'].unique()\n",
        "districts"
      ],
      "execution_count": 41,
      "outputs": [
        {
          "output_type": "execute_result",
          "data": {
            "text/plain": [
              "array(['Hyderabad', 'Visakhapatnam', 'Tirupati', 'Vijayawada',\n",
              "       'Patancheru', 'Ramagundam', 'Kurnool', 'Guntur', 'Nalgonda',\n",
              "       'Nellore', 'Warangal', 'Chittoor', 'Khammam', 'Ananthapur',\n",
              "       'Eluru', 'Kadapa', 'Kakinada', 'Karimnagar', 'Nizamabad', 'Ongole',\n",
              "       'Rajahmundry', 'Sangareddy', 'Srikakulam', 'Vizianagaram',\n",
              "       'Itanagar', 'Naharlagun', 'Guwahati', 'Bongaigaon', 'Dibrugarh',\n",
              "       'Golaghat', 'Hailakandi', 'Sibsagar', 'Tezpur', 'Silchar',\n",
              "       'Daranga', 'Lakhimpur', 'Nagaon', 'Nalbari', 'Sivasagar',\n",
              "       'Silcher', 'Tinsukia', 'Margherita', 'Sindri', 'Jharia', 'Dhanbad',\n",
              "       'Jamshedpur', 'Patna', 'Chandigarh', 'Korba', 'Bhilai Nagar',\n",
              "       'Raipur', 'Bhilai', 'Bilaspur', 'Silvassa', 'Khadoli',\n",
              "       'Daman Diu & Nagar', 'Daman', 'Delhi', 'Vasco', 'Panaji',\n",
              "       'Mormugao', 'Amona', 'Assanora', 'Bicholim', 'Codli', 'Curchorem',\n",
              "       'Honda', 'Usgao', 'Kundaim', 'Mapusa', 'Margao', 'Ponda',\n",
              "       'Sanguem', 'Tilamol', 'Cuncolim', 'Baroda', 'Surat', 'Ahmedabad',\n",
              "       'Ankleshwar', 'Rajkot', 'Jamnagar', 'Vadodara', 'Vapi',\n",
              "       'Anklesvar', 'ANKLESHWAR', 'VAPI', 'Bharuch', 'Bhuj', 'MORBI',\n",
              "       'SANAND', 'Sarigam', 'Faridabad', 'Yamuna Nagar', 'Dharuhera',\n",
              "       'Hisar', 'Yamunanagar', 'Shimla', 'Paonta Sahib', 'Parwanoo',\n",
              "       'Damtal', 'Baddi', 'Nahan', 'Nalagarh', 'Kala Amb', 'Manali',\n",
              "       'Sunder Nagar', 'Una', 'Dharamshala', 'Jammu', 'Ranchi',\n",
              "       'West Singhbhum', 'Saraikela Kharsawan', 'Mysore', 'Bangalore',\n",
              "       'Belgaum', 'Gulbarga', 'Hassan', 'Hubli-Dharwad', 'Mangalore',\n",
              "       'Davangere', 'Dharwad', 'Hubli', 'Bidar', 'Domlur', 'Chitradurga',\n",
              "       'Ranebennur', 'Kolar', 'Mandya', 'Raichur', 'Shimoga', 'Tumkur',\n",
              "       'Bijapur', 'Cochin', 'Kottayam', 'Kotttayam', 'Palakkad', 'Kochi',\n",
              "       'Kozhikode', 'Trivandrum', 'Alappuzha', 'Kollam', 'Malappuram',\n",
              "       'Thiruvananthapuram', 'Pathanamthitta', 'Thissur', 'Wayanad',\n",
              "       'Nagda', 'Indore', 'Bhopal', 'Satna', 'Jabalpur', 'Gwalior',\n",
              "       'Ujjain', 'Dewas', 'Sagar', 'Singrauli', 'Chhindwara', 'Amlai',\n",
              "       'Pithampur', 'Pune', 'Bombay', 'Nagpur', 'Chandrapur', 'Nashik',\n",
              "       'Dombivli', 'Solapur', 'Thane', 'Aurangabad (MS)',\n",
              "       'Greater Mumbai', 'Kolhapur', 'Amravati', 'Lote', 'Navi Mumbai',\n",
              "       'Tarapur', 'Mumbai', 'Mahad', 'Aurangabad', 'Badlapur', 'Jalgaon',\n",
              "       'Latur', 'Roha', 'Sangli', 'Ulhasnagar', 'Akola', 'Jalna',\n",
              "       'Nanded', 'Imphal', 'Shillong', 'Byrnihat', 'Dawki', 'Tura',\n",
              "       'Khliehriat', 'Nongstoin', 'Umsning', 'Aizawl', 'Champhai',\n",
              "       'Kolasib', 'Lunglei', 'Dimapur', 'Kohima', 'Talcher', 'Angul',\n",
              "       'Rourkela', 'Rayagada', 'Bhubaneswar', 'Cuttack', 'Sambalpur',\n",
              "       'Bhubaneshwar', 'Balasore', 'Berhampur', 'Kalinga Nagar',\n",
              "       'Paradeep', 'Keonjhar', 'Konark', 'Puri', 'Pondichery',\n",
              "       'Pondicherry', 'Karaikal', 'Ludhiana', 'Gobindgarh', 'Jalandhar',\n",
              "       'Naya Nangal', 'Amritsar', 'Bathinda', 'Dera Bassi', 'Khanna',\n",
              "       'Dera Baba', 'Patiala', 'Sangrur', 'Faridkot', 'Hoshiarpur',\n",
              "       'Kota', 'Jaipur', 'Jodhpur', 'Chittorgarh', 'Udaipur', 'Alwar',\n",
              "       'Gangtok', 'Madras', 'Turicorin', 'Coimbatore', 'Tuticorin',\n",
              "       'Madurai', 'Salem', 'Chennai', 'Thoothukudi', 'Trichy', 'Mettur',\n",
              "       'Cuddalore', 'Kothur', 'Agra', 'Anpara', 'Dehradoon', 'Kanpur',\n",
              "       'Gajroula', 'Ghaziabad', 'Varanasi', 'Renusagar', 'Gajraula',\n",
              "       'Noida', 'Firozabad', 'Lucknow', 'Jhansi', 'Khurja', 'Allahabad',\n",
              "       'Meerut', 'Bareilly', 'Gorakhpur', 'Mathura', 'Moradabad',\n",
              "       'Rai Bareilly', 'Saharanpur', 'Unnao', 'Dehradun', 'Haldwani',\n",
              "       'Haridwar', 'Kashipur', 'Rishikesh', 'Rudrapur', 'Haldia',\n",
              "       'Howrah', 'Calcutta', 'Kolkata', 'Asansol', 'Durgapur (WB)',\n",
              "       'Barrackpore', 'Durgapur', 'Raniganj', 'Sankrail',\n",
              "       'South Suburban', 'DANKUNI', 'HALDIA', 'Kalyani', 'MALDAH',\n",
              "       'SILIGURI', 'ULUBERIA'], dtype=object)"
            ]
          },
          "metadata": {
            "tags": []
          },
          "execution_count": 41
        }
      ]
    },
    {
      "cell_type": "code",
      "metadata": {
        "id": "ZfWA2WUWQA0W",
        "colab_type": "code",
        "colab": {
          "base_uri": "https://localhost:8080/",
          "height": 34
        },
        "outputId": "31327f28-9328-4f56-c4d9-dd94f050b084"
      },
      "source": [
        "df_aqiIndia['location'].nunique()\n",
        "# 296 locations"
      ],
      "execution_count": 19,
      "outputs": [
        {
          "output_type": "execute_result",
          "data": {
            "text/plain": [
              "296"
            ]
          },
          "metadata": {
            "tags": []
          },
          "execution_count": 19
        }
      ]
    },
    {
      "cell_type": "markdown",
      "metadata": {
        "id": "JXmSbt7PQUbJ",
        "colab_type": "text"
      },
      "source": [
        "Various sources pollution"
      ]
    },
    {
      "cell_type": "code",
      "metadata": {
        "id": "R7PKtDZeQaf3",
        "colab_type": "code",
        "colab": {
          "base_uri": "https://localhost:8080/",
          "height": 86
        },
        "outputId": "c8480485-21b1-4739-c41f-2f223d437e9f"
      },
      "source": [
        "#changing type to only 3 categories\n",
        "a = list(df_aqiIndia['type'])\n",
        "for i in range(0, len(df_aqiIndia)):\n",
        "    if str(a[i][0]) == 'R' and a[i][1] == 'e':\n",
        "        a[i] = 'Residential'\n",
        "    elif str(a[i][0]) == 'I':\n",
        "        a[i] = 'Industrial'\n",
        "    else:\n",
        "        a[i] = 'Other'\n",
        "    \n",
        "df_aqiIndia['type'] = a\n",
        "df_aqiIndia['type'].value_counts()\n"
      ],
      "execution_count": 20,
      "outputs": [
        {
          "output_type": "execute_result",
          "data": {
            "text/plain": [
              "Residential    244017\n",
              "Industrial     137420\n",
              "Other           14724\n",
              "Name: type, dtype: int64"
            ]
          },
          "metadata": {
            "tags": []
          },
          "execution_count": 20
        }
      ]
    },
    {
      "cell_type": "code",
      "metadata": {
        "id": "IkuUPEEmQ93X",
        "colab_type": "code",
        "colab": {
          "base_uri": "https://localhost:8080/",
          "height": 386
        },
        "outputId": "a3f527fd-bb44-4871-903e-ccbdf2bd2939"
      },
      "source": [
        "sns.catplot(x = \"type\", kind = \"count\", palette = \"ch: 0.15\", data = df_aqiIndia)"
      ],
      "execution_count": 21,
      "outputs": [
        {
          "output_type": "execute_result",
          "data": {
            "text/plain": [
              "<seaborn.axisgrid.FacetGrid at 0x7fb776f61ba8>"
            ]
          },
          "metadata": {
            "tags": []
          },
          "execution_count": 21
        },
        {
          "output_type": "display_data",
          "data": {
            "image/png": "[encoded data removed]",
            "text/plain": [
              "<Figure size 360x360 with 1 Axes>"
            ]
          },
          "metadata": {
            "tags": []
          }
        }
      ]
    },
    {
      "cell_type": "code",
      "metadata": {
        "id": "PHKiltSVRfw-",
        "colab_type": "code",
        "colab": {
          "base_uri": "https://localhost:8080/",
          "height": 396
        },
        "outputId": "30013fe5-54a2-4e03-dcdd-8fd75286554d"
      },
      "source": [
        "# Consentration of rspm in different states\n",
        "df_aqiIndia[['rspm', 'state']].groupby(['state']).median().sort_values(\"rspm\", ascending = False).plot.bar(color = 'r')"
      ],
      "execution_count": 22,
      "outputs": [
        {
          "output_type": "execute_result",
          "data": {
            "text/plain": [
              "<matplotlib.axes._subplots.AxesSubplot at 0x7fb770610630>"
            ]
          },
          "metadata": {
            "tags": []
          },
          "execution_count": 22
        },
        {
          "output_type": "display_data",
          "data": {
            "image/png": "[encoded data removed]",
            "text/plain": [
              "<Figure size 432x288 with 1 Axes>"
            ]
          },
          "metadata": {
            "tags": []
          }
        }
      ]
    },
    {
      "cell_type": "code",
      "metadata": {
        "id": "UG9aPUMwSBjC",
        "colab_type": "code",
        "colab": {
          "base_uri": "https://localhost:8080/",
          "height": 399
        },
        "outputId": "6d44940e-9ef6-4e11-9716-95c56e2683ec"
      },
      "source": [
        "# Consentration of spm in different states\n",
        "df_aqiIndia[['spm', 'state']].groupby(['state']).median().sort_values(\"spm\", ascending = False).plot.bar(color = 'r')"
      ],
      "execution_count": 23,
      "outputs": [
        {
          "output_type": "execute_result",
          "data": {
            "text/plain": [
              "<matplotlib.axes._subplots.AxesSubplot at 0x7fb772f23e48>"
            ]
          },
          "metadata": {
            "tags": []
          },
          "execution_count": 23
        },
        {
          "output_type": "display_data",
          "data": {
            "image/png": "[encoded data removed]",
            "text/plain": [
              "<Figure size 432x288 with 1 Axes>"
            ]
          },
          "metadata": {
            "tags": []
          }
        }
      ]
    },
    {
      "cell_type": "code",
      "metadata": {
        "id": "ALUAyI-qSJTn",
        "colab_type": "code",
        "colab": {
          "base_uri": "https://localhost:8080/",
          "height": 396
        },
        "outputId": "8ede136c-c724-46f2-f0d5-8989341c3e66"
      },
      "source": [
        "# Consentration of pm2_5 in different states\n",
        "df_aqiIndia[['pm2_5', 'state']].groupby(['state']).median().sort_values(\"pm2_5\", ascending = False).plot.bar(color = 'r')"
      ],
      "execution_count": 24,
      "outputs": [
        {
          "output_type": "execute_result",
          "data": {
            "text/plain": [
              "<matplotlib.axes._subplots.AxesSubplot at 0x7fb772f681d0>"
            ]
          },
          "metadata": {
            "tags": []
          },
          "execution_count": 24
        },
        {
          "output_type": "display_data",
          "data": {
            "image/png": "[encoded data removed]",
            "text/plain": [
              "<Figure size 432x288 with 1 Axes>"
            ]
          },
          "metadata": {
            "tags": []
          }
        }
      ]
    },
    {
      "cell_type": "code",
      "metadata": {
        "id": "5XxfpwQlTGN_",
        "colab_type": "code",
        "colab": {
          "base_uri": "https://localhost:8080/",
          "height": 644
        },
        "outputId": "c729eda4-d652-468e-82ec-64ce91ead409"
      },
      "source": [
        "# Scatter plots of all columns\n",
        "sns.set()\n",
        "cols = ['rspm', 'spm', 'pm2_5']\n",
        "sns.pairplot(df_aqiIndia[cols], size = 2.5)\n",
        "plt.show()"
      ],
      "execution_count": 25,
      "outputs": [
        {
          "output_type": "stream",
          "text": [
            "/usr/local/lib/python3.6/dist-packages/seaborn/axisgrid.py:2065: UserWarning: The `size` parameter has been renamed to `height`; pleaes update your code.\n",
            "  warnings.warn(msg, UserWarning)\n",
            "/usr/local/lib/python3.6/dist-packages/numpy/lib/histograms.py:839: RuntimeWarning: invalid value encountered in greater_equal\n",
            "  keep = (tmp_a >= first_edge)\n",
            "/usr/local/lib/python3.6/dist-packages/numpy/lib/histograms.py:840: RuntimeWarning: invalid value encountered in less_equal\n",
            "  keep &= (tmp_a <= last_edge)\n"
          ],
          "name": "stderr"
        },
        {
          "output_type": "display_data",
          "data": {
            "image/png": "[encoded data removed]",
            "text/plain": [
              "<Figure size 540x540 with 12 Axes>"
            ]
          },
          "metadata": {
            "tags": []
          }
        }
      ]
    },
    {
      "cell_type": "code",
      "metadata": {
        "id": "zYxxeS-9UBgV",
        "colab_type": "code",
        "colab": {
          "base_uri": "https://localhost:8080/",
          "height": 616
        },
        "outputId": "25defd56-7bfa-4161-8e92-d765551d8d6a"
      },
      "source": [
        "# Correlation matrix\n",
        "corrmat = df_aqiIndia.corr()\n",
        "f, ax = plt.subplots(figsize = (15, 10))\n",
        "sns.heatmap(corrmat, vmax = 1, square = True, annot = True)"
      ],
      "execution_count": 26,
      "outputs": [
        {
          "output_type": "execute_result",
          "data": {
            "text/plain": [
              "<matplotlib.axes._subplots.AxesSubplot at 0x7fb77292b978>"
            ]
          },
          "metadata": {
            "tags": []
          },
          "execution_count": 26
        },
        {
          "output_type": "display_data",
          "data": {
            "image/png": "[encoded data removed]",
            "text/plain": [
              "<Figure size 1080x720 with 2 Axes>"
            ]
          },
          "metadata": {
            "tags": []
          }
        }
      ]
    },
    {
      "cell_type": "code",
      "metadata": {
        "id": "BknY76q3UeQV",
        "colab_type": "code",
        "colab": {
          "base_uri": "https://localhost:8080/",
          "height": 408
        },
        "outputId": "45e2b31e-4985-476c-f60b-e8beeabae316"
      },
      "source": [
        "# rspm - location wise - first 50\n",
        "df_aqiIndia[['rspm', 'location']].groupby(['location']).median().sort_values(\"rspm\", ascending = False).head(50).plot.bar(color = 'r')"
      ],
      "execution_count": 27,
      "outputs": [
        {
          "output_type": "execute_result",
          "data": {
            "text/plain": [
              "<matplotlib.axes._subplots.AxesSubplot at 0x7fb772868240>"
            ]
          },
          "metadata": {
            "tags": []
          },
          "execution_count": 27
        },
        {
          "output_type": "display_data",
          "data": {
            "image/png": "[encoded data removed]",
            "text/plain": [
              "<Figure size 432x288 with 1 Axes>"
            ]
          },
          "metadata": {
            "tags": []
          }
        }
      ]
    },
    {
      "cell_type": "code",
      "metadata": {
        "id": "5e_Jig-8U0ro",
        "colab_type": "code",
        "colab": {
          "base_uri": "https://localhost:8080/",
          "height": 382
        },
        "outputId": "29e6b9bd-73c3-462c-9574-25084aece95e"
      },
      "source": [
        "# spm - location wise - first 50\n",
        "df_aqiIndia[['spm', 'location']].groupby(['location']).median().sort_values(\"spm\", ascending = False).head(50).plot.bar(color = 'r')"
      ],
      "execution_count": 28,
      "outputs": [
        {
          "output_type": "execute_result",
          "data": {
            "text/plain": [
              "<matplotlib.axes._subplots.AxesSubplot at 0x7fb772d246a0>"
            ]
          },
          "metadata": {
            "tags": []
          },
          "execution_count": 28
        },
        {
          "output_type": "display_data",
          "data": {
            "image/png": "[encoded data removed]",
            "text/plain": [
              "<Figure size 432x288 with 1 Axes>"
            ]
          },
          "metadata": {
            "tags": []
          }
        }
      ]
    },
    {
      "cell_type": "code",
      "metadata": {
        "id": "ZogJ9v_SU76b",
        "colab_type": "code",
        "colab": {
          "base_uri": "https://localhost:8080/",
          "height": 370
        },
        "outputId": "933c0f93-533f-4994-c010-4f9b47e43b0a"
      },
      "source": [
        "# pm2_5 vs location - all non null values\n",
        "df_aqiIndia[['pm2_5', 'location']].groupby(['location']).median().sort_values(\"pm2_5\", ascending = False).head(64).plot.bar(color = 'r')"
      ],
      "execution_count": 29,
      "outputs": [
        {
          "output_type": "execute_result",
          "data": {
            "text/plain": [
              "<matplotlib.axes._subplots.AxesSubplot at 0x7fb772570898>"
            ]
          },
          "metadata": {
            "tags": []
          },
          "execution_count": 29
        },
        {
          "output_type": "display_data",
          "data": {
            "image/png": "[encoded data removed]",
            "text/plain": [
              "<Figure size 432x288 with 1 Axes>"
            ]
          },
          "metadata": {
            "tags": []
          }
        }
      ]
    },
    {
      "cell_type": "markdown",
      "metadata": {
        "id": "29lnjDtFekYq",
        "colab_type": "text"
      },
      "source": [
        "# Create Graph"
      ]
    },
    {
      "cell_type": "code",
      "metadata": {
        "id": "vy25jBnueinN",
        "colab_type": "code",
        "colab": {
          "base_uri": "https://localhost:8080/",
          "height": 636
        },
        "outputId": "286d5497-5b20-4b0c-9077-b09a1f9ce060"
      },
      "source": [
        "df_states = df_aqiIndia.groupby('state')\n",
        "# df_states\n",
        "\n",
        "df_stateNodes = df_states.apply(lambda x: x['location'].unique())\n",
        "df_stateNodes"
      ],
      "execution_count": 38,
      "outputs": [
        {
          "output_type": "execute_result",
          "data": {
            "text/plain": [
              "state\n",
              "Andhra Pradesh          [Hyderabad, Visakhapatnam, Tirupati, Vijayawad...\n",
              "Arunachal Pradesh                                  [Itanagar, Naharlagun]\n",
              "Assam                   [Guwahati, Bongaigaon, Dibrugarh, Golaghat, Ha...\n",
              "Bihar                        [Sindri, Jharia, Dhanbad, Jamshedpur, Patna]\n",
              "Chandigarh                                                   [Chandigarh]\n",
              "Chhattisgarh              [Korba, Bhilai Nagar, Raipur, Bhilai, Bilaspur]\n",
              "Dadra & Nagar Haveli                                  [Silvassa, Khadoli]\n",
              "Daman & Diu                                    [Daman Diu & Nagar, Daman]\n",
              "Delhi                                                             [Delhi]\n",
              "Goa                     [Vasco, Panaji, Mormugao, Amona, Assanora, Bic...\n",
              "Gujarat                 [Baroda, Surat, Ahmedabad, Ankleshwar, Rajkot,...\n",
              "Haryana                 [Faridabad, Yamuna Nagar, Dharuhera, Hisar, Ya...\n",
              "Himachal Pradesh        [Shimla, Paonta Sahib, Parwanoo, Damtal, Baddi...\n",
              "Jammu & Kashmir                                                   [Jammu]\n",
              "Jharkhand               [Dhanbad, Sindri, Jharia, Ranchi, Jamshedpur, ...\n",
              "Karnataka               [Mysore, Bangalore, Belgaum, Gulbarga, Hassan,...\n",
              "Kerala                  [Cochin, Kottayam, Kotttayam, Palakkad, Kochi,...\n",
              "Madhya Pradesh          [Nagda, Bhilai, Indore, Bhopal, Satna, Jabalpu...\n",
              "Maharashtra             [Pune, Bombay, Nagpur, Chandrapur, Nashik, Dom...\n",
              "Manipur                                                          [Imphal]\n",
              "Meghalaya               [Shillong, Byrnihat, Dawki, Tura, Khliehriat, ...\n",
              "Mizoram                              [Aizawl, Champhai, Kolasib, Lunglei]\n",
              "Nagaland                                                [Dimapur, Kohima]\n",
              "Odisha                  [Talcher, Angul, Rourkela, Rayagada, Bhubanesw...\n",
              "Puducherry                            [Pondichery, Pondicherry, Karaikal]\n",
              "Punjab                  [Ludhiana, Gobindgarh, Jalandhar, Naya Nangal,...\n",
              "Rajasthan               [Kota, Jaipur, Jodhpur, Chittorgarh, Udaipur, ...\n",
              "Sikkim                                                          [Gangtok]\n",
              "Tamil Nadu              [Madras, Turicorin, Coimbatore, Tuticorin, Mad...\n",
              "Telangana               [Hyderabad, Khammam, Nalgonda, Patancheru, Ram...\n",
              "Uttar Pradesh           [Agra, Anpara, Dehradoon, Kanpur, Gajroula, Gh...\n",
              "Uttarakhand             [Dehradun, Haldwani, Haridwar, Kashipur, Rishi...\n",
              "Uttaranchal                                                    [Dehradun]\n",
              "West Bengal             [Haldia, Howrah, Calcutta, Kolkata, Asansol, D...\n",
              "dtype: object"
            ]
          },
          "metadata": {
            "tags": []
          },
          "execution_count": 38
        }
      ]
    },
    {
      "cell_type": "code",
      "metadata": {
        "id": "zDolmOP6e5pp",
        "colab_type": "code",
        "colab": {
          "base_uri": "https://localhost:8080/",
          "height": 1000
        },
        "outputId": "8b99dff2-b52f-4502-f540-09544acbda48"
      },
      "source": [
        "df_stateNodes = df_stateNodes.apply(pd.Series)\n",
        "df_stateNodes"
      ],
      "execution_count": 32,
      "outputs": [
        {
          "output_type": "execute_result",
          "data": {
            "text/html": [
              "<div>\n",
              "<style scoped>\n",
              "    .dataframe tbody tr th:only-of-type {\n",
              "        vertical-align: middle;\n",
              "    }\n",
              "\n",
              "    .dataframe tbody tr th {\n",
              "        vertical-align: top;\n",
              "    }\n",
              "\n",
              "    .dataframe thead th {\n",
              "        text-align: right;\n",
              "    }\n",
              "</style>\n",
              "<table border=\"1\" class=\"dataframe\">\n",
              "  <thead>\n",
              "    <tr style=\"text-align: right;\">\n",
              "      <th></th>\n",
              "      <th>0</th>\n",
              "      <th>1</th>\n",
              "      <th>2</th>\n",
              "      <th>3</th>\n",
              "      <th>4</th>\n",
              "      <th>5</th>\n",
              "      <th>6</th>\n",
              "      <th>7</th>\n",
              "      <th>8</th>\n",
              "      <th>9</th>\n",
              "      <th>10</th>\n",
              "      <th>11</th>\n",
              "      <th>12</th>\n",
              "      <th>13</th>\n",
              "      <th>14</th>\n",
              "      <th>15</th>\n",
              "      <th>16</th>\n",
              "      <th>17</th>\n",
              "      <th>18</th>\n",
              "      <th>19</th>\n",
              "      <th>20</th>\n",
              "      <th>21</th>\n",
              "      <th>22</th>\n",
              "      <th>23</th>\n",
              "      <th>24</th>\n",
              "      <th>25</th>\n",
              "      <th>26</th>\n",
              "    </tr>\n",
              "    <tr>\n",
              "      <th>state</th>\n",
              "      <th></th>\n",
              "      <th></th>\n",
              "      <th></th>\n",
              "      <th></th>\n",
              "      <th></th>\n",
              "      <th></th>\n",
              "      <th></th>\n",
              "      <th></th>\n",
              "      <th></th>\n",
              "      <th></th>\n",
              "      <th></th>\n",
              "      <th></th>\n",
              "      <th></th>\n",
              "      <th></th>\n",
              "      <th></th>\n",
              "      <th></th>\n",
              "      <th></th>\n",
              "      <th></th>\n",
              "      <th></th>\n",
              "      <th></th>\n",
              "      <th></th>\n",
              "      <th></th>\n",
              "      <th></th>\n",
              "      <th></th>\n",
              "      <th></th>\n",
              "      <th></th>\n",
              "      <th></th>\n",
              "    </tr>\n",
              "  </thead>\n",
              "  <tbody>\n",
              "    <tr>\n",
              "      <th>Andhra Pradesh</th>\n",
              "      <td>Hyderabad</td>\n",
              "      <td>Visakhapatnam</td>\n",
              "      <td>Tirupati</td>\n",
              "      <td>Vijayawada</td>\n",
              "      <td>Patancheru</td>\n",
              "      <td>Ramagundam</td>\n",
              "      <td>Kurnool</td>\n",
              "      <td>Guntur</td>\n",
              "      <td>Nalgonda</td>\n",
              "      <td>Nellore</td>\n",
              "      <td>Warangal</td>\n",
              "      <td>Chittoor</td>\n",
              "      <td>Khammam</td>\n",
              "      <td>Ananthapur</td>\n",
              "      <td>Eluru</td>\n",
              "      <td>Kadapa</td>\n",
              "      <td>Kakinada</td>\n",
              "      <td>Karimnagar</td>\n",
              "      <td>Nizamabad</td>\n",
              "      <td>Ongole</td>\n",
              "      <td>Rajahmundry</td>\n",
              "      <td>Sangareddy</td>\n",
              "      <td>Srikakulam</td>\n",
              "      <td>Vizianagaram</td>\n",
              "      <td>NaN</td>\n",
              "      <td>NaN</td>\n",
              "      <td>NaN</td>\n",
              "    </tr>\n",
              "    <tr>\n",
              "      <th>Arunachal Pradesh</th>\n",
              "      <td>Itanagar</td>\n",
              "      <td>Naharlagun</td>\n",
              "      <td>NaN</td>\n",
              "      <td>NaN</td>\n",
              "      <td>NaN</td>\n",
              "      <td>NaN</td>\n",
              "      <td>NaN</td>\n",
              "      <td>NaN</td>\n",
              "      <td>NaN</td>\n",
              "      <td>NaN</td>\n",
              "      <td>NaN</td>\n",
              "      <td>NaN</td>\n",
              "      <td>NaN</td>\n",
              "      <td>NaN</td>\n",
              "      <td>NaN</td>\n",
              "      <td>NaN</td>\n",
              "      <td>NaN</td>\n",
              "      <td>NaN</td>\n",
              "      <td>NaN</td>\n",
              "      <td>NaN</td>\n",
              "      <td>NaN</td>\n",
              "      <td>NaN</td>\n",
              "      <td>NaN</td>\n",
              "      <td>NaN</td>\n",
              "      <td>NaN</td>\n",
              "      <td>NaN</td>\n",
              "      <td>NaN</td>\n",
              "    </tr>\n",
              "    <tr>\n",
              "      <th>Assam</th>\n",
              "      <td>Guwahati</td>\n",
              "      <td>Bongaigaon</td>\n",
              "      <td>Dibrugarh</td>\n",
              "      <td>Golaghat</td>\n",
              "      <td>Hailakandi</td>\n",
              "      <td>Sibsagar</td>\n",
              "      <td>Tezpur</td>\n",
              "      <td>Silchar</td>\n",
              "      <td>Daranga</td>\n",
              "      <td>Lakhimpur</td>\n",
              "      <td>Nagaon</td>\n",
              "      <td>Nalbari</td>\n",
              "      <td>Sivasagar</td>\n",
              "      <td>Silcher</td>\n",
              "      <td>Tinsukia</td>\n",
              "      <td>Margherita</td>\n",
              "      <td>NaN</td>\n",
              "      <td>NaN</td>\n",
              "      <td>NaN</td>\n",
              "      <td>NaN</td>\n",
              "      <td>NaN</td>\n",
              "      <td>NaN</td>\n",
              "      <td>NaN</td>\n",
              "      <td>NaN</td>\n",
              "      <td>NaN</td>\n",
              "      <td>NaN</td>\n",
              "      <td>NaN</td>\n",
              "    </tr>\n",
              "    <tr>\n",
              "      <th>Bihar</th>\n",
              "      <td>Sindri</td>\n",
              "      <td>Jharia</td>\n",
              "      <td>Dhanbad</td>\n",
              "      <td>Jamshedpur</td>\n",
              "      <td>Patna</td>\n",
              "      <td>NaN</td>\n",
              "      <td>NaN</td>\n",
              "      <td>NaN</td>\n",
              "      <td>NaN</td>\n",
              "      <td>NaN</td>\n",
              "      <td>NaN</td>\n",
              "      <td>NaN</td>\n",
              "      <td>NaN</td>\n",
              "      <td>NaN</td>\n",
              "      <td>NaN</td>\n",
              "      <td>NaN</td>\n",
              "      <td>NaN</td>\n",
              "      <td>NaN</td>\n",
              "      <td>NaN</td>\n",
              "      <td>NaN</td>\n",
              "      <td>NaN</td>\n",
              "      <td>NaN</td>\n",
              "      <td>NaN</td>\n",
              "      <td>NaN</td>\n",
              "      <td>NaN</td>\n",
              "      <td>NaN</td>\n",
              "      <td>NaN</td>\n",
              "    </tr>\n",
              "    <tr>\n",
              "      <th>Chandigarh</th>\n",
              "      <td>Chandigarh</td>\n",
              "      <td>NaN</td>\n",
              "      <td>NaN</td>\n",
              "      <td>NaN</td>\n",
              "      <td>NaN</td>\n",
              "      <td>NaN</td>\n",
              "      <td>NaN</td>\n",
              "      <td>NaN</td>\n",
              "      <td>NaN</td>\n",
              "      <td>NaN</td>\n",
              "      <td>NaN</td>\n",
              "      <td>NaN</td>\n",
              "      <td>NaN</td>\n",
              "      <td>NaN</td>\n",
              "      <td>NaN</td>\n",
              "      <td>NaN</td>\n",
              "      <td>NaN</td>\n",
              "      <td>NaN</td>\n",
              "      <td>NaN</td>\n",
              "      <td>NaN</td>\n",
              "      <td>NaN</td>\n",
              "      <td>NaN</td>\n",
              "      <td>NaN</td>\n",
              "      <td>NaN</td>\n",
              "      <td>NaN</td>\n",
              "      <td>NaN</td>\n",
              "      <td>NaN</td>\n",
              "    </tr>\n",
              "    <tr>\n",
              "      <th>Chhattisgarh</th>\n",
              "      <td>Korba</td>\n",
              "      <td>Bhilai Nagar</td>\n",
              "      <td>Raipur</td>\n",
              "      <td>Bhilai</td>\n",
              "      <td>Bilaspur</td>\n",
              "      <td>NaN</td>\n",
              "      <td>NaN</td>\n",
              "      <td>NaN</td>\n",
              "      <td>NaN</td>\n",
              "      <td>NaN</td>\n",
              "      <td>NaN</td>\n",
              "      <td>NaN</td>\n",
              "      <td>NaN</td>\n",
              "      <td>NaN</td>\n",
              "      <td>NaN</td>\n",
              "      <td>NaN</td>\n",
              "      <td>NaN</td>\n",
              "      <td>NaN</td>\n",
              "      <td>NaN</td>\n",
              "      <td>NaN</td>\n",
              "      <td>NaN</td>\n",
              "      <td>NaN</td>\n",
              "      <td>NaN</td>\n",
              "      <td>NaN</td>\n",
              "      <td>NaN</td>\n",
              "      <td>NaN</td>\n",
              "      <td>NaN</td>\n",
              "    </tr>\n",
              "    <tr>\n",
              "      <th>Dadra &amp; Nagar Haveli</th>\n",
              "      <td>Silvassa</td>\n",
              "      <td>Khadoli</td>\n",
              "      <td>NaN</td>\n",
              "      <td>NaN</td>\n",
              "      <td>NaN</td>\n",
              "      <td>NaN</td>\n",
              "      <td>NaN</td>\n",
              "      <td>NaN</td>\n",
              "      <td>NaN</td>\n",
              "      <td>NaN</td>\n",
              "      <td>NaN</td>\n",
              "      <td>NaN</td>\n",
              "      <td>NaN</td>\n",
              "      <td>NaN</td>\n",
              "      <td>NaN</td>\n",
              "      <td>NaN</td>\n",
              "      <td>NaN</td>\n",
              "      <td>NaN</td>\n",
              "      <td>NaN</td>\n",
              "      <td>NaN</td>\n",
              "      <td>NaN</td>\n",
              "      <td>NaN</td>\n",
              "      <td>NaN</td>\n",
              "      <td>NaN</td>\n",
              "      <td>NaN</td>\n",
              "      <td>NaN</td>\n",
              "      <td>NaN</td>\n",
              "    </tr>\n",
              "    <tr>\n",
              "      <th>Daman &amp; Diu</th>\n",
              "      <td>Daman Diu &amp; Nagar</td>\n",
              "      <td>Daman</td>\n",
              "      <td>NaN</td>\n",
              "      <td>NaN</td>\n",
              "      <td>NaN</td>\n",
              "      <td>NaN</td>\n",
              "      <td>NaN</td>\n",
              "      <td>NaN</td>\n",
              "      <td>NaN</td>\n",
              "      <td>NaN</td>\n",
              "      <td>NaN</td>\n",
              "      <td>NaN</td>\n",
              "      <td>NaN</td>\n",
              "      <td>NaN</td>\n",
              "      <td>NaN</td>\n",
              "      <td>NaN</td>\n",
              "      <td>NaN</td>\n",
              "      <td>NaN</td>\n",
              "      <td>NaN</td>\n",
              "      <td>NaN</td>\n",
              "      <td>NaN</td>\n",
              "      <td>NaN</td>\n",
              "      <td>NaN</td>\n",
              "      <td>NaN</td>\n",
              "      <td>NaN</td>\n",
              "      <td>NaN</td>\n",
              "      <td>NaN</td>\n",
              "    </tr>\n",
              "    <tr>\n",
              "      <th>Delhi</th>\n",
              "      <td>Delhi</td>\n",
              "      <td>NaN</td>\n",
              "      <td>NaN</td>\n",
              "      <td>NaN</td>\n",
              "      <td>NaN</td>\n",
              "      <td>NaN</td>\n",
              "      <td>NaN</td>\n",
              "      <td>NaN</td>\n",
              "      <td>NaN</td>\n",
              "      <td>NaN</td>\n",
              "      <td>NaN</td>\n",
              "      <td>NaN</td>\n",
              "      <td>NaN</td>\n",
              "      <td>NaN</td>\n",
              "      <td>NaN</td>\n",
              "      <td>NaN</td>\n",
              "      <td>NaN</td>\n",
              "      <td>NaN</td>\n",
              "      <td>NaN</td>\n",
              "      <td>NaN</td>\n",
              "      <td>NaN</td>\n",
              "      <td>NaN</td>\n",
              "      <td>NaN</td>\n",
              "      <td>NaN</td>\n",
              "      <td>NaN</td>\n",
              "      <td>NaN</td>\n",
              "      <td>NaN</td>\n",
              "    </tr>\n",
              "    <tr>\n",
              "      <th>Goa</th>\n",
              "      <td>Vasco</td>\n",
              "      <td>Panaji</td>\n",
              "      <td>Mormugao</td>\n",
              "      <td>Amona</td>\n",
              "      <td>Assanora</td>\n",
              "      <td>Bicholim</td>\n",
              "      <td>Codli</td>\n",
              "      <td>Curchorem</td>\n",
              "      <td>Honda</td>\n",
              "      <td>Usgao</td>\n",
              "      <td>Kundaim</td>\n",
              "      <td>Mapusa</td>\n",
              "      <td>Margao</td>\n",
              "      <td>Ponda</td>\n",
              "      <td>Sanguem</td>\n",
              "      <td>Tilamol</td>\n",
              "      <td>Cuncolim</td>\n",
              "      <td>NaN</td>\n",
              "      <td>NaN</td>\n",
              "      <td>NaN</td>\n",
              "      <td>NaN</td>\n",
              "      <td>NaN</td>\n",
              "      <td>NaN</td>\n",
              "      <td>NaN</td>\n",
              "      <td>NaN</td>\n",
              "      <td>NaN</td>\n",
              "      <td>NaN</td>\n",
              "    </tr>\n",
              "    <tr>\n",
              "      <th>Gujarat</th>\n",
              "      <td>Baroda</td>\n",
              "      <td>Surat</td>\n",
              "      <td>Ahmedabad</td>\n",
              "      <td>Ankleshwar</td>\n",
              "      <td>Rajkot</td>\n",
              "      <td>Jamnagar</td>\n",
              "      <td>Vadodara</td>\n",
              "      <td>Vapi</td>\n",
              "      <td>Anklesvar</td>\n",
              "      <td>ANKLESHWAR</td>\n",
              "      <td>VAPI</td>\n",
              "      <td>Bharuch</td>\n",
              "      <td>Bhuj</td>\n",
              "      <td>MORBI</td>\n",
              "      <td>SANAND</td>\n",
              "      <td>Sarigam</td>\n",
              "      <td>NaN</td>\n",
              "      <td>NaN</td>\n",
              "      <td>NaN</td>\n",
              "      <td>NaN</td>\n",
              "      <td>NaN</td>\n",
              "      <td>NaN</td>\n",
              "      <td>NaN</td>\n",
              "      <td>NaN</td>\n",
              "      <td>NaN</td>\n",
              "      <td>NaN</td>\n",
              "      <td>NaN</td>\n",
              "    </tr>\n",
              "    <tr>\n",
              "      <th>Haryana</th>\n",
              "      <td>Faridabad</td>\n",
              "      <td>Yamuna Nagar</td>\n",
              "      <td>Dharuhera</td>\n",
              "      <td>Hisar</td>\n",
              "      <td>Yamunanagar</td>\n",
              "      <td>NaN</td>\n",
              "      <td>NaN</td>\n",
              "      <td>NaN</td>\n",
              "      <td>NaN</td>\n",
              "      <td>NaN</td>\n",
              "      <td>NaN</td>\n",
              "      <td>NaN</td>\n",
              "      <td>NaN</td>\n",
              "      <td>NaN</td>\n",
              "      <td>NaN</td>\n",
              "      <td>NaN</td>\n",
              "      <td>NaN</td>\n",
              "      <td>NaN</td>\n",
              "      <td>NaN</td>\n",
              "      <td>NaN</td>\n",
              "      <td>NaN</td>\n",
              "      <td>NaN</td>\n",
              "      <td>NaN</td>\n",
              "      <td>NaN</td>\n",
              "      <td>NaN</td>\n",
              "      <td>NaN</td>\n",
              "      <td>NaN</td>\n",
              "    </tr>\n",
              "    <tr>\n",
              "      <th>Himachal Pradesh</th>\n",
              "      <td>Shimla</td>\n",
              "      <td>Paonta Sahib</td>\n",
              "      <td>Parwanoo</td>\n",
              "      <td>Damtal</td>\n",
              "      <td>Baddi</td>\n",
              "      <td>Nahan</td>\n",
              "      <td>Nalagarh</td>\n",
              "      <td>Kala Amb</td>\n",
              "      <td>Manali</td>\n",
              "      <td>Sunder Nagar</td>\n",
              "      <td>Una</td>\n",
              "      <td>Dharamshala</td>\n",
              "      <td>NaN</td>\n",
              "      <td>NaN</td>\n",
              "      <td>NaN</td>\n",
              "      <td>NaN</td>\n",
              "      <td>NaN</td>\n",
              "      <td>NaN</td>\n",
              "      <td>NaN</td>\n",
              "      <td>NaN</td>\n",
              "      <td>NaN</td>\n",
              "      <td>NaN</td>\n",
              "      <td>NaN</td>\n",
              "      <td>NaN</td>\n",
              "      <td>NaN</td>\n",
              "      <td>NaN</td>\n",
              "      <td>NaN</td>\n",
              "    </tr>\n",
              "    <tr>\n",
              "      <th>Jammu &amp; Kashmir</th>\n",
              "      <td>Jammu</td>\n",
              "      <td>NaN</td>\n",
              "      <td>NaN</td>\n",
              "      <td>NaN</td>\n",
              "      <td>NaN</td>\n",
              "      <td>NaN</td>\n",
              "      <td>NaN</td>\n",
              "      <td>NaN</td>\n",
              "      <td>NaN</td>\n",
              "      <td>NaN</td>\n",
              "      <td>NaN</td>\n",
              "      <td>NaN</td>\n",
              "      <td>NaN</td>\n",
              "      <td>NaN</td>\n",
              "      <td>NaN</td>\n",
              "      <td>NaN</td>\n",
              "      <td>NaN</td>\n",
              "      <td>NaN</td>\n",
              "      <td>NaN</td>\n",
              "      <td>NaN</td>\n",
              "      <td>NaN</td>\n",
              "      <td>NaN</td>\n",
              "      <td>NaN</td>\n",
              "      <td>NaN</td>\n",
              "      <td>NaN</td>\n",
              "      <td>NaN</td>\n",
              "      <td>NaN</td>\n",
              "    </tr>\n",
              "    <tr>\n",
              "      <th>Jharkhand</th>\n",
              "      <td>Dhanbad</td>\n",
              "      <td>Sindri</td>\n",
              "      <td>Jharia</td>\n",
              "      <td>Ranchi</td>\n",
              "      <td>Jamshedpur</td>\n",
              "      <td>West Singhbhum</td>\n",
              "      <td>Saraikela Kharsawan</td>\n",
              "      <td>NaN</td>\n",
              "      <td>NaN</td>\n",
              "      <td>NaN</td>\n",
              "      <td>NaN</td>\n",
              "      <td>NaN</td>\n",
              "      <td>NaN</td>\n",
              "      <td>NaN</td>\n",
              "      <td>NaN</td>\n",
              "      <td>NaN</td>\n",
              "      <td>NaN</td>\n",
              "      <td>NaN</td>\n",
              "      <td>NaN</td>\n",
              "      <td>NaN</td>\n",
              "      <td>NaN</td>\n",
              "      <td>NaN</td>\n",
              "      <td>NaN</td>\n",
              "      <td>NaN</td>\n",
              "      <td>NaN</td>\n",
              "      <td>NaN</td>\n",
              "      <td>NaN</td>\n",
              "    </tr>\n",
              "    <tr>\n",
              "      <th>Karnataka</th>\n",
              "      <td>Mysore</td>\n",
              "      <td>Bangalore</td>\n",
              "      <td>Belgaum</td>\n",
              "      <td>Gulbarga</td>\n",
              "      <td>Hassan</td>\n",
              "      <td>Hubli-Dharwad</td>\n",
              "      <td>Mangalore</td>\n",
              "      <td>Davangere</td>\n",
              "      <td>Dharwad</td>\n",
              "      <td>Hubli</td>\n",
              "      <td>Bidar</td>\n",
              "      <td>Domlur</td>\n",
              "      <td>Chitradurga</td>\n",
              "      <td>Ranebennur</td>\n",
              "      <td>Kolar</td>\n",
              "      <td>Mandya</td>\n",
              "      <td>Raichur</td>\n",
              "      <td>Shimoga</td>\n",
              "      <td>Tumkur</td>\n",
              "      <td>Bijapur</td>\n",
              "      <td>NaN</td>\n",
              "      <td>NaN</td>\n",
              "      <td>NaN</td>\n",
              "      <td>NaN</td>\n",
              "      <td>NaN</td>\n",
              "      <td>NaN</td>\n",
              "      <td>NaN</td>\n",
              "    </tr>\n",
              "    <tr>\n",
              "      <th>Kerala</th>\n",
              "      <td>Cochin</td>\n",
              "      <td>Kottayam</td>\n",
              "      <td>Kotttayam</td>\n",
              "      <td>Palakkad</td>\n",
              "      <td>Kochi</td>\n",
              "      <td>Kozhikode</td>\n",
              "      <td>Trivandrum</td>\n",
              "      <td>Alappuzha</td>\n",
              "      <td>Kollam</td>\n",
              "      <td>Malappuram</td>\n",
              "      <td>Thiruvananthapuram</td>\n",
              "      <td>Pathanamthitta</td>\n",
              "      <td>Thissur</td>\n",
              "      <td>Wayanad</td>\n",
              "      <td>NaN</td>\n",
              "      <td>NaN</td>\n",
              "      <td>NaN</td>\n",
              "      <td>NaN</td>\n",
              "      <td>NaN</td>\n",
              "      <td>NaN</td>\n",
              "      <td>NaN</td>\n",
              "      <td>NaN</td>\n",
              "      <td>NaN</td>\n",
              "      <td>NaN</td>\n",
              "      <td>NaN</td>\n",
              "      <td>NaN</td>\n",
              "      <td>NaN</td>\n",
              "    </tr>\n",
              "    <tr>\n",
              "      <th>Madhya Pradesh</th>\n",
              "      <td>Nagda</td>\n",
              "      <td>Bhilai</td>\n",
              "      <td>Indore</td>\n",
              "      <td>Bhopal</td>\n",
              "      <td>Satna</td>\n",
              "      <td>Jabalpur</td>\n",
              "      <td>Gwalior</td>\n",
              "      <td>Ujjain</td>\n",
              "      <td>Dewas</td>\n",
              "      <td>Sagar</td>\n",
              "      <td>Singrauli</td>\n",
              "      <td>Chhindwara</td>\n",
              "      <td>Amlai</td>\n",
              "      <td>Pithampur</td>\n",
              "      <td>NaN</td>\n",
              "      <td>NaN</td>\n",
              "      <td>NaN</td>\n",
              "      <td>NaN</td>\n",
              "      <td>NaN</td>\n",
              "      <td>NaN</td>\n",
              "      <td>NaN</td>\n",
              "      <td>NaN</td>\n",
              "      <td>NaN</td>\n",
              "      <td>NaN</td>\n",
              "      <td>NaN</td>\n",
              "      <td>NaN</td>\n",
              "      <td>NaN</td>\n",
              "    </tr>\n",
              "    <tr>\n",
              "      <th>Maharashtra</th>\n",
              "      <td>Pune</td>\n",
              "      <td>Bombay</td>\n",
              "      <td>Nagpur</td>\n",
              "      <td>Chandrapur</td>\n",
              "      <td>Nashik</td>\n",
              "      <td>Dombivli</td>\n",
              "      <td>Solapur</td>\n",
              "      <td>Thane</td>\n",
              "      <td>Aurangabad (MS)</td>\n",
              "      <td>Greater Mumbai</td>\n",
              "      <td>Kolhapur</td>\n",
              "      <td>Amravati</td>\n",
              "      <td>Lote</td>\n",
              "      <td>Navi Mumbai</td>\n",
              "      <td>Tarapur</td>\n",
              "      <td>Mumbai</td>\n",
              "      <td>Mahad</td>\n",
              "      <td>Aurangabad</td>\n",
              "      <td>Badlapur</td>\n",
              "      <td>Jalgaon</td>\n",
              "      <td>Latur</td>\n",
              "      <td>Roha</td>\n",
              "      <td>Sangli</td>\n",
              "      <td>Ulhasnagar</td>\n",
              "      <td>Akola</td>\n",
              "      <td>Jalna</td>\n",
              "      <td>Nanded</td>\n",
              "    </tr>\n",
              "    <tr>\n",
              "      <th>Manipur</th>\n",
              "      <td>Imphal</td>\n",
              "      <td>NaN</td>\n",
              "      <td>NaN</td>\n",
              "      <td>NaN</td>\n",
              "      <td>NaN</td>\n",
              "      <td>NaN</td>\n",
              "      <td>NaN</td>\n",
              "      <td>NaN</td>\n",
              "      <td>NaN</td>\n",
              "      <td>NaN</td>\n",
              "      <td>NaN</td>\n",
              "      <td>NaN</td>\n",
              "      <td>NaN</td>\n",
              "      <td>NaN</td>\n",
              "      <td>NaN</td>\n",
              "      <td>NaN</td>\n",
              "      <td>NaN</td>\n",
              "      <td>NaN</td>\n",
              "      <td>NaN</td>\n",
              "      <td>NaN</td>\n",
              "      <td>NaN</td>\n",
              "      <td>NaN</td>\n",
              "      <td>NaN</td>\n",
              "      <td>NaN</td>\n",
              "      <td>NaN</td>\n",
              "      <td>NaN</td>\n",
              "      <td>NaN</td>\n",
              "    </tr>\n",
              "    <tr>\n",
              "      <th>Meghalaya</th>\n",
              "      <td>Shillong</td>\n",
              "      <td>Byrnihat</td>\n",
              "      <td>Dawki</td>\n",
              "      <td>Tura</td>\n",
              "      <td>Khliehriat</td>\n",
              "      <td>Nongstoin</td>\n",
              "      <td>Umsning</td>\n",
              "      <td>NaN</td>\n",
              "      <td>NaN</td>\n",
              "      <td>NaN</td>\n",
              "      <td>NaN</td>\n",
              "      <td>NaN</td>\n",
              "      <td>NaN</td>\n",
              "      <td>NaN</td>\n",
              "      <td>NaN</td>\n",
              "      <td>NaN</td>\n",
              "      <td>NaN</td>\n",
              "      <td>NaN</td>\n",
              "      <td>NaN</td>\n",
              "      <td>NaN</td>\n",
              "      <td>NaN</td>\n",
              "      <td>NaN</td>\n",
              "      <td>NaN</td>\n",
              "      <td>NaN</td>\n",
              "      <td>NaN</td>\n",
              "      <td>NaN</td>\n",
              "      <td>NaN</td>\n",
              "    </tr>\n",
              "    <tr>\n",
              "      <th>Mizoram</th>\n",
              "      <td>Aizawl</td>\n",
              "      <td>Champhai</td>\n",
              "      <td>Kolasib</td>\n",
              "      <td>Lunglei</td>\n",
              "      <td>NaN</td>\n",
              "      <td>NaN</td>\n",
              "      <td>NaN</td>\n",
              "      <td>NaN</td>\n",
              "      <td>NaN</td>\n",
              "      <td>NaN</td>\n",
              "      <td>NaN</td>\n",
              "      <td>NaN</td>\n",
              "      <td>NaN</td>\n",
              "      <td>NaN</td>\n",
              "      <td>NaN</td>\n",
              "      <td>NaN</td>\n",
              "      <td>NaN</td>\n",
              "      <td>NaN</td>\n",
              "      <td>NaN</td>\n",
              "      <td>NaN</td>\n",
              "      <td>NaN</td>\n",
              "      <td>NaN</td>\n",
              "      <td>NaN</td>\n",
              "      <td>NaN</td>\n",
              "      <td>NaN</td>\n",
              "      <td>NaN</td>\n",
              "      <td>NaN</td>\n",
              "    </tr>\n",
              "    <tr>\n",
              "      <th>Nagaland</th>\n",
              "      <td>Dimapur</td>\n",
              "      <td>Kohima</td>\n",
              "      <td>NaN</td>\n",
              "      <td>NaN</td>\n",
              "      <td>NaN</td>\n",
              "      <td>NaN</td>\n",
              "      <td>NaN</td>\n",
              "      <td>NaN</td>\n",
              "      <td>NaN</td>\n",
              "      <td>NaN</td>\n",
              "      <td>NaN</td>\n",
              "      <td>NaN</td>\n",
              "      <td>NaN</td>\n",
              "      <td>NaN</td>\n",
              "      <td>NaN</td>\n",
              "      <td>NaN</td>\n",
              "      <td>NaN</td>\n",
              "      <td>NaN</td>\n",
              "      <td>NaN</td>\n",
              "      <td>NaN</td>\n",
              "      <td>NaN</td>\n",
              "      <td>NaN</td>\n",
              "      <td>NaN</td>\n",
              "      <td>NaN</td>\n",
              "      <td>NaN</td>\n",
              "      <td>NaN</td>\n",
              "      <td>NaN</td>\n",
              "    </tr>\n",
              "    <tr>\n",
              "      <th>Odisha</th>\n",
              "      <td>Talcher</td>\n",
              "      <td>Angul</td>\n",
              "      <td>Rourkela</td>\n",
              "      <td>Rayagada</td>\n",
              "      <td>Bhubaneswar</td>\n",
              "      <td>Cuttack</td>\n",
              "      <td>Sambalpur</td>\n",
              "      <td>Bhubaneshwar</td>\n",
              "      <td>Balasore</td>\n",
              "      <td>Berhampur</td>\n",
              "      <td>Kalinga Nagar</td>\n",
              "      <td>Paradeep</td>\n",
              "      <td>Keonjhar</td>\n",
              "      <td>Konark</td>\n",
              "      <td>Puri</td>\n",
              "      <td>NaN</td>\n",
              "      <td>NaN</td>\n",
              "      <td>NaN</td>\n",
              "      <td>NaN</td>\n",
              "      <td>NaN</td>\n",
              "      <td>NaN</td>\n",
              "      <td>NaN</td>\n",
              "      <td>NaN</td>\n",
              "      <td>NaN</td>\n",
              "      <td>NaN</td>\n",
              "      <td>NaN</td>\n",
              "      <td>NaN</td>\n",
              "    </tr>\n",
              "    <tr>\n",
              "      <th>Puducherry</th>\n",
              "      <td>Pondichery</td>\n",
              "      <td>Pondicherry</td>\n",
              "      <td>Karaikal</td>\n",
              "      <td>NaN</td>\n",
              "      <td>NaN</td>\n",
              "      <td>NaN</td>\n",
              "      <td>NaN</td>\n",
              "      <td>NaN</td>\n",
              "      <td>NaN</td>\n",
              "      <td>NaN</td>\n",
              "      <td>NaN</td>\n",
              "      <td>NaN</td>\n",
              "      <td>NaN</td>\n",
              "      <td>NaN</td>\n",
              "      <td>NaN</td>\n",
              "      <td>NaN</td>\n",
              "      <td>NaN</td>\n",
              "      <td>NaN</td>\n",
              "      <td>NaN</td>\n",
              "      <td>NaN</td>\n",
              "      <td>NaN</td>\n",
              "      <td>NaN</td>\n",
              "      <td>NaN</td>\n",
              "      <td>NaN</td>\n",
              "      <td>NaN</td>\n",
              "      <td>NaN</td>\n",
              "      <td>NaN</td>\n",
              "    </tr>\n",
              "    <tr>\n",
              "      <th>Punjab</th>\n",
              "      <td>Ludhiana</td>\n",
              "      <td>Gobindgarh</td>\n",
              "      <td>Jalandhar</td>\n",
              "      <td>Naya Nangal</td>\n",
              "      <td>Amritsar</td>\n",
              "      <td>Bathinda</td>\n",
              "      <td>Dera Bassi</td>\n",
              "      <td>Khanna</td>\n",
              "      <td>Dera Baba</td>\n",
              "      <td>Patiala</td>\n",
              "      <td>Sangrur</td>\n",
              "      <td>Faridkot</td>\n",
              "      <td>Hoshiarpur</td>\n",
              "      <td>NaN</td>\n",
              "      <td>NaN</td>\n",
              "      <td>NaN</td>\n",
              "      <td>NaN</td>\n",
              "      <td>NaN</td>\n",
              "      <td>NaN</td>\n",
              "      <td>NaN</td>\n",
              "      <td>NaN</td>\n",
              "      <td>NaN</td>\n",
              "      <td>NaN</td>\n",
              "      <td>NaN</td>\n",
              "      <td>NaN</td>\n",
              "      <td>NaN</td>\n",
              "      <td>NaN</td>\n",
              "    </tr>\n",
              "    <tr>\n",
              "      <th>Rajasthan</th>\n",
              "      <td>Kota</td>\n",
              "      <td>Jaipur</td>\n",
              "      <td>Jodhpur</td>\n",
              "      <td>Chittorgarh</td>\n",
              "      <td>Udaipur</td>\n",
              "      <td>Alwar</td>\n",
              "      <td>NaN</td>\n",
              "      <td>NaN</td>\n",
              "      <td>NaN</td>\n",
              "      <td>NaN</td>\n",
              "      <td>NaN</td>\n",
              "      <td>NaN</td>\n",
              "      <td>NaN</td>\n",
              "      <td>NaN</td>\n",
              "      <td>NaN</td>\n",
              "      <td>NaN</td>\n",
              "      <td>NaN</td>\n",
              "      <td>NaN</td>\n",
              "      <td>NaN</td>\n",
              "      <td>NaN</td>\n",
              "      <td>NaN</td>\n",
              "      <td>NaN</td>\n",
              "      <td>NaN</td>\n",
              "      <td>NaN</td>\n",
              "      <td>NaN</td>\n",
              "      <td>NaN</td>\n",
              "      <td>NaN</td>\n",
              "    </tr>\n",
              "    <tr>\n",
              "      <th>Sikkim</th>\n",
              "      <td>Gangtok</td>\n",
              "      <td>NaN</td>\n",
              "      <td>NaN</td>\n",
              "      <td>NaN</td>\n",
              "      <td>NaN</td>\n",
              "      <td>NaN</td>\n",
              "      <td>NaN</td>\n",
              "      <td>NaN</td>\n",
              "      <td>NaN</td>\n",
              "      <td>NaN</td>\n",
              "      <td>NaN</td>\n",
              "      <td>NaN</td>\n",
              "      <td>NaN</td>\n",
              "      <td>NaN</td>\n",
              "      <td>NaN</td>\n",
              "      <td>NaN</td>\n",
              "      <td>NaN</td>\n",
              "      <td>NaN</td>\n",
              "      <td>NaN</td>\n",
              "      <td>NaN</td>\n",
              "      <td>NaN</td>\n",
              "      <td>NaN</td>\n",
              "      <td>NaN</td>\n",
              "      <td>NaN</td>\n",
              "      <td>NaN</td>\n",
              "      <td>NaN</td>\n",
              "      <td>NaN</td>\n",
              "    </tr>\n",
              "    <tr>\n",
              "      <th>Tamil Nadu</th>\n",
              "      <td>Madras</td>\n",
              "      <td>Turicorin</td>\n",
              "      <td>Coimbatore</td>\n",
              "      <td>Tuticorin</td>\n",
              "      <td>Madurai</td>\n",
              "      <td>Salem</td>\n",
              "      <td>Chennai</td>\n",
              "      <td>Thoothukudi</td>\n",
              "      <td>Trichy</td>\n",
              "      <td>Mettur</td>\n",
              "      <td>Cuddalore</td>\n",
              "      <td>NaN</td>\n",
              "      <td>NaN</td>\n",
              "      <td>NaN</td>\n",
              "      <td>NaN</td>\n",
              "      <td>NaN</td>\n",
              "      <td>NaN</td>\n",
              "      <td>NaN</td>\n",
              "      <td>NaN</td>\n",
              "      <td>NaN</td>\n",
              "      <td>NaN</td>\n",
              "      <td>NaN</td>\n",
              "      <td>NaN</td>\n",
              "      <td>NaN</td>\n",
              "      <td>NaN</td>\n",
              "      <td>NaN</td>\n",
              "      <td>NaN</td>\n",
              "    </tr>\n",
              "    <tr>\n",
              "      <th>Telangana</th>\n",
              "      <td>Hyderabad</td>\n",
              "      <td>Khammam</td>\n",
              "      <td>Nalgonda</td>\n",
              "      <td>Patancheru</td>\n",
              "      <td>Ramagundam</td>\n",
              "      <td>Sangareddy</td>\n",
              "      <td>Warangal</td>\n",
              "      <td>Kothur</td>\n",
              "      <td>Karimnagar</td>\n",
              "      <td>NaN</td>\n",
              "      <td>NaN</td>\n",
              "      <td>NaN</td>\n",
              "      <td>NaN</td>\n",
              "      <td>NaN</td>\n",
              "      <td>NaN</td>\n",
              "      <td>NaN</td>\n",
              "      <td>NaN</td>\n",
              "      <td>NaN</td>\n",
              "      <td>NaN</td>\n",
              "      <td>NaN</td>\n",
              "      <td>NaN</td>\n",
              "      <td>NaN</td>\n",
              "      <td>NaN</td>\n",
              "      <td>NaN</td>\n",
              "      <td>NaN</td>\n",
              "      <td>NaN</td>\n",
              "      <td>NaN</td>\n",
              "    </tr>\n",
              "    <tr>\n",
              "      <th>Uttar Pradesh</th>\n",
              "      <td>Agra</td>\n",
              "      <td>Anpara</td>\n",
              "      <td>Dehradoon</td>\n",
              "      <td>Kanpur</td>\n",
              "      <td>Gajroula</td>\n",
              "      <td>Ghaziabad</td>\n",
              "      <td>Varanasi</td>\n",
              "      <td>Renusagar</td>\n",
              "      <td>Gajraula</td>\n",
              "      <td>Noida</td>\n",
              "      <td>Firozabad</td>\n",
              "      <td>Lucknow</td>\n",
              "      <td>Jhansi</td>\n",
              "      <td>Khurja</td>\n",
              "      <td>Allahabad</td>\n",
              "      <td>Meerut</td>\n",
              "      <td>Bareilly</td>\n",
              "      <td>Gorakhpur</td>\n",
              "      <td>Mathura</td>\n",
              "      <td>Moradabad</td>\n",
              "      <td>Rai Bareilly</td>\n",
              "      <td>Saharanpur</td>\n",
              "      <td>Unnao</td>\n",
              "      <td>NaN</td>\n",
              "      <td>NaN</td>\n",
              "      <td>NaN</td>\n",
              "      <td>NaN</td>\n",
              "    </tr>\n",
              "    <tr>\n",
              "      <th>Uttarakhand</th>\n",
              "      <td>Dehradun</td>\n",
              "      <td>Haldwani</td>\n",
              "      <td>Haridwar</td>\n",
              "      <td>Kashipur</td>\n",
              "      <td>Rishikesh</td>\n",
              "      <td>Rudrapur</td>\n",
              "      <td>NaN</td>\n",
              "      <td>NaN</td>\n",
              "      <td>NaN</td>\n",
              "      <td>NaN</td>\n",
              "      <td>NaN</td>\n",
              "      <td>NaN</td>\n",
              "      <td>NaN</td>\n",
              "      <td>NaN</td>\n",
              "      <td>NaN</td>\n",
              "      <td>NaN</td>\n",
              "      <td>NaN</td>\n",
              "      <td>NaN</td>\n",
              "      <td>NaN</td>\n",
              "      <td>NaN</td>\n",
              "      <td>NaN</td>\n",
              "      <td>NaN</td>\n",
              "      <td>NaN</td>\n",
              "      <td>NaN</td>\n",
              "      <td>NaN</td>\n",
              "      <td>NaN</td>\n",
              "      <td>NaN</td>\n",
              "    </tr>\n",
              "    <tr>\n",
              "      <th>Uttaranchal</th>\n",
              "      <td>Dehradun</td>\n",
              "      <td>NaN</td>\n",
              "      <td>NaN</td>\n",
              "      <td>NaN</td>\n",
              "      <td>NaN</td>\n",
              "      <td>NaN</td>\n",
              "      <td>NaN</td>\n",
              "      <td>NaN</td>\n",
              "      <td>NaN</td>\n",
              "      <td>NaN</td>\n",
              "      <td>NaN</td>\n",
              "      <td>NaN</td>\n",
              "      <td>NaN</td>\n",
              "      <td>NaN</td>\n",
              "      <td>NaN</td>\n",
              "      <td>NaN</td>\n",
              "      <td>NaN</td>\n",
              "      <td>NaN</td>\n",
              "      <td>NaN</td>\n",
              "      <td>NaN</td>\n",
              "      <td>NaN</td>\n",
              "      <td>NaN</td>\n",
              "      <td>NaN</td>\n",
              "      <td>NaN</td>\n",
              "      <td>NaN</td>\n",
              "      <td>NaN</td>\n",
              "      <td>NaN</td>\n",
              "    </tr>\n",
              "    <tr>\n",
              "      <th>West Bengal</th>\n",
              "      <td>Haldia</td>\n",
              "      <td>Howrah</td>\n",
              "      <td>Calcutta</td>\n",
              "      <td>Kolkata</td>\n",
              "      <td>Asansol</td>\n",
              "      <td>Durgapur (WB)</td>\n",
              "      <td>Barrackpore</td>\n",
              "      <td>Durgapur</td>\n",
              "      <td>Raniganj</td>\n",
              "      <td>Sankrail</td>\n",
              "      <td>South Suburban</td>\n",
              "      <td>DANKUNI</td>\n",
              "      <td>HALDIA</td>\n",
              "      <td>Kalyani</td>\n",
              "      <td>MALDAH</td>\n",
              "      <td>SILIGURI</td>\n",
              "      <td>ULUBERIA</td>\n",
              "      <td>NaN</td>\n",
              "      <td>NaN</td>\n",
              "      <td>NaN</td>\n",
              "      <td>NaN</td>\n",
              "      <td>NaN</td>\n",
              "      <td>NaN</td>\n",
              "      <td>NaN</td>\n",
              "      <td>NaN</td>\n",
              "      <td>NaN</td>\n",
              "      <td>NaN</td>\n",
              "    </tr>\n",
              "  </tbody>\n",
              "</table>\n",
              "</div>"
            ],
            "text/plain": [
              "                                     0              1   ...     25      26\n",
              "state                                                   ...               \n",
              "Andhra Pradesh                Hyderabad  Visakhapatnam  ...    NaN     NaN\n",
              "Arunachal Pradesh              Itanagar     Naharlagun  ...    NaN     NaN\n",
              "Assam                          Guwahati     Bongaigaon  ...    NaN     NaN\n",
              "Bihar                            Sindri         Jharia  ...    NaN     NaN\n",
              "Chandigarh                   Chandigarh            NaN  ...    NaN     NaN\n",
              "Chhattisgarh                      Korba   Bhilai Nagar  ...    NaN     NaN\n",
              "Dadra & Nagar Haveli           Silvassa        Khadoli  ...    NaN     NaN\n",
              "Daman & Diu           Daman Diu & Nagar          Daman  ...    NaN     NaN\n",
              "Delhi                             Delhi            NaN  ...    NaN     NaN\n",
              "Goa                               Vasco         Panaji  ...    NaN     NaN\n",
              "Gujarat                          Baroda          Surat  ...    NaN     NaN\n",
              "Haryana                       Faridabad   Yamuna Nagar  ...    NaN     NaN\n",
              "Himachal Pradesh                 Shimla   Paonta Sahib  ...    NaN     NaN\n",
              "Jammu & Kashmir                   Jammu            NaN  ...    NaN     NaN\n",
              "Jharkhand                       Dhanbad         Sindri  ...    NaN     NaN\n",
              "Karnataka                        Mysore      Bangalore  ...    NaN     NaN\n",
              "Kerala                           Cochin       Kottayam  ...    NaN     NaN\n",
              "Madhya Pradesh                    Nagda         Bhilai  ...    NaN     NaN\n",
              "Maharashtra                        Pune         Bombay  ...  Jalna  Nanded\n",
              "Manipur                          Imphal            NaN  ...    NaN     NaN\n",
              "Meghalaya                      Shillong       Byrnihat  ...    NaN     NaN\n",
              "Mizoram                          Aizawl       Champhai  ...    NaN     NaN\n",
              "Nagaland                        Dimapur         Kohima  ...    NaN     NaN\n",
              "Odisha                          Talcher          Angul  ...    NaN     NaN\n",
              "Puducherry                   Pondichery    Pondicherry  ...    NaN     NaN\n",
              "Punjab                         Ludhiana     Gobindgarh  ...    NaN     NaN\n",
              "Rajasthan                          Kota         Jaipur  ...    NaN     NaN\n",
              "Sikkim                          Gangtok            NaN  ...    NaN     NaN\n",
              "Tamil Nadu                       Madras      Turicorin  ...    NaN     NaN\n",
              "Telangana                     Hyderabad        Khammam  ...    NaN     NaN\n",
              "Uttar Pradesh                      Agra         Anpara  ...    NaN     NaN\n",
              "Uttarakhand                    Dehradun       Haldwani  ...    NaN     NaN\n",
              "Uttaranchal                    Dehradun            NaN  ...    NaN     NaN\n",
              "West Bengal                      Haldia         Howrah  ...    NaN     NaN\n",
              "\n",
              "[34 rows x 27 columns]"
            ]
          },
          "metadata": {
            "tags": []
          },
          "execution_count": 32
        }
      ]
    },
    {
      "cell_type": "code",
      "metadata": {
        "id": "XrCjBVmihaUF",
        "colab_type": "code",
        "colab": {}
      },
      "source": [
        "# Create new Graph object\n",
        "G = nx.Graph()"
      ],
      "execution_count": 0,
      "outputs": []
    },
    {
      "cell_type": "code",
      "metadata": {
        "id": "sDMRd6k9eHdi",
        "colab_type": "code",
        "colab": {}
      },
      "source": [
        "# nodeNames = [n[0] for n in df_stateNodes]\n",
        "\n",
        "# Add your lists of nodes and edges\n",
        "# column_edge = 'Andhra Pradesh'\n",
        "# column_ID = 0\n",
        "\n",
        "# data_to_merge = df_stateNodes[[column_ID, column_edge]].dropna(subset=[column_edge]).drop_duplicates() # select columns, remove NaN\n",
        "\n",
        "# To create connections between districts and states\n",
        "# join data with itself on the 'ID' column.\n",
        "# data_to_merge = data_to_merge.merge(\n",
        "#     data_to_merge[[column_ID, column_edge]].rename(columns={column_ID:column_ID+\"_2\"}), \n",
        "#     on=column_edge\n",
        "# )\n",
        "\n",
        "nodeNames = districts\n",
        "# edges = states\n",
        "\n",
        "G.add_nodes_from(nodeNames)\n",
        "# G.add_edges_from(edges)"
      ],
      "execution_count": 0,
      "outputs": []
    },
    {
      "cell_type": "code",
      "metadata": {
        "id": "1TPFvv7ftC4t",
        "colab_type": "code",
        "colab": {
          "base_uri": "https://localhost:8080/",
          "height": 319
        },
        "outputId": "ad9d6a35-465e-4c4c-a70e-5f766cc8ae6a"
      },
      "source": [
        "# Draw graph\n",
        "nx.draw(G)"
      ],
      "execution_count": 45,
      "outputs": [
        {
          "output_type": "display_data",
          "data": {
            "image/png": "[encoded data removed]",
            "text/plain": [
              "<Figure size 432x288 with 1 Axes>"
            ]
          },
          "metadata": {
            "tags": []
          }
        }
      ]
    }
  ]
}